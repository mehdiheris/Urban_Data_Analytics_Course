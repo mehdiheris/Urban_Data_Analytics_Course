{
 "cells": [
  {
   "cell_type": "code",
   "execution_count": 2,
   "metadata": {},
   "outputs": [],
   "source": [
    "import numpy as np\n",
    "import pandas as pd\n",
    "import matplotlib.pyplot as plt\n",
    "import statsmodels.api as sm\n",
    "from statsmodels.formula.api import ols\n",
    "from scipy import stats\n",
    "import seaborn as sns"
   ]
  },
  {
   "cell_type": "code",
   "execution_count": 3,
   "metadata": {},
   "outputs": [],
   "source": [
    "# find the path on your disk\n",
    "pathName = r\"C:\\MyFiles\\Dropbox\\Teaching\\Urban_Data_Analsysis\\Fall 2020\\Data\\exam_scores.csv\""
   ]
  },
  {
   "cell_type": "code",
   "execution_count": 4,
   "metadata": {},
   "outputs": [],
   "source": [
    "# read the csv as a dataframe\n",
    "df = pd.read_csv(pathName)"
   ]
  },
  {
   "cell_type": "code",
   "execution_count": 5,
   "metadata": {},
   "outputs": [
    {
     "data": {
      "text/html": [
       "<div>\n",
       "<style scoped>\n",
       "    .dataframe tbody tr th:only-of-type {\n",
       "        vertical-align: middle;\n",
       "    }\n",
       "\n",
       "    .dataframe tbody tr th {\n",
       "        vertical-align: top;\n",
       "    }\n",
       "\n",
       "    .dataframe thead th {\n",
       "        text-align: right;\n",
       "    }\n",
       "</style>\n",
       "<table border=\"1\" class=\"dataframe\">\n",
       "  <thead>\n",
       "    <tr style=\"text-align: right;\">\n",
       "      <th></th>\n",
       "      <th>EthincityGroups</th>\n",
       "      <th>parental_level_of_education</th>\n",
       "      <th>test_preparation_course</th>\n",
       "      <th>math_score</th>\n",
       "      <th>reading_score</th>\n",
       "      <th>writing_score</th>\n",
       "      <th>study_hours</th>\n",
       "    </tr>\n",
       "  </thead>\n",
       "  <tbody>\n",
       "    <tr>\n",
       "      <th>15</th>\n",
       "      <td>group D</td>\n",
       "      <td>master's degree</td>\n",
       "      <td>completed</td>\n",
       "      <td>85</td>\n",
       "      <td>79</td>\n",
       "      <td>79</td>\n",
       "      <td>7</td>\n",
       "    </tr>\n",
       "    <tr>\n",
       "      <th>80</th>\n",
       "      <td>group C</td>\n",
       "      <td>associate's degree</td>\n",
       "      <td>none</td>\n",
       "      <td>50</td>\n",
       "      <td>64</td>\n",
       "      <td>68</td>\n",
       "      <td>4</td>\n",
       "    </tr>\n",
       "    <tr>\n",
       "      <th>40</th>\n",
       "      <td>group D</td>\n",
       "      <td>associate's degree</td>\n",
       "      <td>completed</td>\n",
       "      <td>72</td>\n",
       "      <td>77</td>\n",
       "      <td>80</td>\n",
       "      <td>5</td>\n",
       "    </tr>\n",
       "    <tr>\n",
       "      <th>58</th>\n",
       "      <td>group B</td>\n",
       "      <td>some college</td>\n",
       "      <td>completed</td>\n",
       "      <td>67</td>\n",
       "      <td>71</td>\n",
       "      <td>71</td>\n",
       "      <td>1</td>\n",
       "    </tr>\n",
       "    <tr>\n",
       "      <th>75</th>\n",
       "      <td>group B</td>\n",
       "      <td>some college</td>\n",
       "      <td>none</td>\n",
       "      <td>54</td>\n",
       "      <td>70</td>\n",
       "      <td>68</td>\n",
       "      <td>2</td>\n",
       "    </tr>\n",
       "    <tr>\n",
       "      <th>61</th>\n",
       "      <td>group E</td>\n",
       "      <td>some college</td>\n",
       "      <td>none</td>\n",
       "      <td>66</td>\n",
       "      <td>64</td>\n",
       "      <td>65</td>\n",
       "      <td>5</td>\n",
       "    </tr>\n",
       "    <tr>\n",
       "      <th>37</th>\n",
       "      <td>group B</td>\n",
       "      <td>bachelor's degree</td>\n",
       "      <td>none</td>\n",
       "      <td>72</td>\n",
       "      <td>64</td>\n",
       "      <td>64</td>\n",
       "      <td>7</td>\n",
       "    </tr>\n",
       "    <tr>\n",
       "      <th>66</th>\n",
       "      <td>group E</td>\n",
       "      <td>high school</td>\n",
       "      <td>none</td>\n",
       "      <td>62</td>\n",
       "      <td>80</td>\n",
       "      <td>74</td>\n",
       "      <td>1</td>\n",
       "    </tr>\n",
       "    <tr>\n",
       "      <th>67</th>\n",
       "      <td>group B</td>\n",
       "      <td>high school</td>\n",
       "      <td>completed</td>\n",
       "      <td>61</td>\n",
       "      <td>74</td>\n",
       "      <td>56</td>\n",
       "      <td>3</td>\n",
       "    </tr>\n",
       "    <tr>\n",
       "      <th>13</th>\n",
       "      <td>group E</td>\n",
       "      <td>some college</td>\n",
       "      <td>none</td>\n",
       "      <td>86</td>\n",
       "      <td>77</td>\n",
       "      <td>70</td>\n",
       "      <td>5</td>\n",
       "    </tr>\n",
       "  </tbody>\n",
       "</table>\n",
       "</div>"
      ],
      "text/plain": [
       "   EthincityGroups parental_level_of_education test_preparation_course  \\\n",
       "15         group D             master's degree               completed   \n",
       "80         group C          associate's degree                    none   \n",
       "40         group D          associate's degree               completed   \n",
       "58         group B                some college               completed   \n",
       "75         group B                some college                    none   \n",
       "61         group E                some college                    none   \n",
       "37         group B           bachelor's degree                    none   \n",
       "66         group E                 high school                    none   \n",
       "67         group B                 high school               completed   \n",
       "13         group E                some college                    none   \n",
       "\n",
       "    math_score  reading_score  writing_score  study_hours  \n",
       "15          85             79             79            7  \n",
       "80          50             64             68            4  \n",
       "40          72             77             80            5  \n",
       "58          67             71             71            1  \n",
       "75          54             70             68            2  \n",
       "61          66             64             65            5  \n",
       "37          72             64             64            7  \n",
       "66          62             80             74            1  \n",
       "67          61             74             56            3  \n",
       "13          86             77             70            5  "
      ]
     },
     "execution_count": 5,
     "metadata": {},
     "output_type": "execute_result"
    }
   ],
   "source": [
    "df.sample(10)"
   ]
  },
  {
   "cell_type": "markdown",
   "metadata": {},
   "source": [
    "### correlation matrix"
   ]
  },
  {
   "cell_type": "code",
   "execution_count": 20,
   "metadata": {},
   "outputs": [
    {
     "data": {
      "text/html": [
       "<div>\n",
       "<style scoped>\n",
       "    .dataframe tbody tr th:only-of-type {\n",
       "        vertical-align: middle;\n",
       "    }\n",
       "\n",
       "    .dataframe tbody tr th {\n",
       "        vertical-align: top;\n",
       "    }\n",
       "\n",
       "    .dataframe thead th {\n",
       "        text-align: right;\n",
       "    }\n",
       "</style>\n",
       "<table border=\"1\" class=\"dataframe\">\n",
       "  <thead>\n",
       "    <tr style=\"text-align: right;\">\n",
       "      <th></th>\n",
       "      <th>math_score</th>\n",
       "      <th>reading_score</th>\n",
       "      <th>writing_score</th>\n",
       "      <th>study_hours</th>\n",
       "    </tr>\n",
       "  </thead>\n",
       "  <tbody>\n",
       "    <tr>\n",
       "      <th>math_score</th>\n",
       "      <td>1.000000</td>\n",
       "      <td>0.857614</td>\n",
       "      <td>0.842227</td>\n",
       "      <td>0.661965</td>\n",
       "    </tr>\n",
       "    <tr>\n",
       "      <th>reading_score</th>\n",
       "      <td>0.857614</td>\n",
       "      <td>1.000000</td>\n",
       "      <td>0.957473</td>\n",
       "      <td>0.569435</td>\n",
       "    </tr>\n",
       "    <tr>\n",
       "      <th>writing_score</th>\n",
       "      <td>0.842227</td>\n",
       "      <td>0.957473</td>\n",
       "      <td>1.000000</td>\n",
       "      <td>0.578325</td>\n",
       "    </tr>\n",
       "    <tr>\n",
       "      <th>study_hours</th>\n",
       "      <td>0.661965</td>\n",
       "      <td>0.569435</td>\n",
       "      <td>0.578325</td>\n",
       "      <td>1.000000</td>\n",
       "    </tr>\n",
       "  </tbody>\n",
       "</table>\n",
       "</div>"
      ],
      "text/plain": [
       "               math_score  reading_score  writing_score  study_hours\n",
       "math_score       1.000000       0.857614       0.842227     0.661965\n",
       "reading_score    0.857614       1.000000       0.957473     0.569435\n",
       "writing_score    0.842227       0.957473       1.000000     0.578325\n",
       "study_hours      0.661965       0.569435       0.578325     1.000000"
      ]
     },
     "execution_count": 20,
     "metadata": {},
     "output_type": "execute_result"
    }
   ],
   "source": [
    "df.corr()\n",
    "# df.corr().round(2)"
   ]
  },
  {
   "cell_type": "markdown",
   "metadata": {},
   "source": [
    "### Correlation heatmap"
   ]
  },
  {
   "cell_type": "code",
   "execution_count": 10,
   "metadata": {},
   "outputs": [
    {
     "data": {
      "text/plain": [
       "<AxesSubplot:>"
      ]
     },
     "execution_count": 10,
     "metadata": {},
     "output_type": "execute_result"
    },
    {
     "data": {
      "image/png": "[encoded data removed]",
      "text/plain": [
       "<Figure size 576x432 with 2 Axes>"
      ]
     },
     "metadata": {},
     "output_type": "display_data"
    }
   ],
   "source": [
    "# set the style\n",
    "sns.set_style(\"whitegrid\")\n",
    "\n",
    "# set the size\n",
    "plt.figure(figsize=(8,6))\n",
    "\n",
    "# plot\n",
    "sns.heatmap(((df[['math_score','reading_score','writing_score','study_hours']]).corr()), annot=True)"
   ]
  },
  {
   "cell_type": "markdown",
   "metadata": {},
   "source": [
    "### Calculate correlation coefficient"
   ]
  },
  {
   "cell_type": "code",
   "execution_count": 21,
   "metadata": {},
   "outputs": [
    {
     "data": {
      "text/plain": [
       "(0.6619650493998472, 6.435343932530891e-14)"
      ]
     },
     "execution_count": 21,
     "metadata": {},
     "output_type": "execute_result"
    }
   ],
   "source": [
    "# stats.pearsonr(x, y)\n",
    "stats.pearsonr(df['math_score'],df['study_hours'])\n",
    "# the first output is the correlation value and the second outcome is the p-value"
   ]
  },
  {
   "cell_type": "code",
   "execution_count": 26,
   "metadata": {},
   "outputs": [
    {
     "data": {
      "text/plain": [
       "(0.5694347807949258, 6.316459765559139e-10)"
      ]
     },
     "execution_count": 26,
     "metadata": {},
     "output_type": "execute_result"
    }
   ],
   "source": [
    "# stats.pearsonr(x, y)\n",
    "stats.pearsonr(df['reading_score'],df['study_hours'])\n",
    "# the first output is the correlation value and the second outcome is the p-value"
   ]
  },
  {
   "cell_type": "markdown",
   "metadata": {},
   "source": [
    "### Scatter plot"
   ]
  },
  {
   "cell_type": "code",
   "execution_count": 22,
   "metadata": {},
   "outputs": [
    {
     "data": {
      "text/plain": [
       "Index(['EthincityGroups', 'parental_level_of_education',\n",
       "       'test_preparation_course', 'math_score', 'reading_score',\n",
       "       'writing_score', 'study_hours'],\n",
       "      dtype='object')"
      ]
     },
     "execution_count": 22,
     "metadata": {},
     "output_type": "execute_result"
    }
   ],
   "source": [
    "df.columns"
   ]
  },
  {
   "cell_type": "code",
   "execution_count": 25,
   "metadata": {},
   "outputs": [
    {
     "data": {
      "text/plain": [
       "<AxesSubplot:xlabel='math_score', ylabel='study_hours'>"
      ]
     },
     "execution_count": 25,
     "metadata": {},
     "output_type": "execute_result"
    },
    {
     "data": {
      "image/png": "[encoded data removed]",
      "text/plain": [
       "<Figure size 720x504 with 1 Axes>"
      ]
     },
     "metadata": {},
     "output_type": "display_data"
    }
   ],
   "source": [
    "# set the style\n",
    "sns.set_style(\"white\")\n",
    "\n",
    "# set the size\n",
    "fig = plt.gcf()\n",
    "# Changing Seaborn Plot size\n",
    "fig.set_size_inches(10, 7)\n",
    "\n",
    "# plot\n",
    "sns.scatterplot(data=df, x='math_score', y=\"study_hours\")"
   ]
  },
  {
   "cell_type": "markdown",
   "metadata": {},
   "source": [
    "## Scatter plot with the best line"
   ]
  },
  {
   "cell_type": "code",
   "execution_count": 14,
   "metadata": {},
   "outputs": [
    {
     "data": {
      "text/plain": [
       "<AxesSubplot:xlabel='math_score', ylabel='study_hours'>"
      ]
     },
     "execution_count": 14,
     "metadata": {},
     "output_type": "execute_result"
    },
    {
     "data": {
      "image/png": "[encoded data removed]",
      "text/plain": [
       "<Figure size 720x504 with 1 Axes>"
      ]
     },
     "metadata": {},
     "output_type": "display_data"
    }
   ],
   "source": [
    "# set teh style\n",
    "sns.set_style(\"white\")\n",
    "\n",
    "# seet the size\n",
    "fig = plt.gcf()\n",
    "# Changing Seaborn Plot size\n",
    "fig.set_size_inches(10, 7)\n",
    "\n",
    "# plot\n",
    "sns.regplot(x=df['math_score'], y=df['study_hours'], line_kws={\"color\":\"green\",\"alpha\":0.6,\"lw\":4})"
   ]
  },
  {
   "cell_type": "markdown",
   "metadata": {},
   "source": [
    "### Scatter plot with histograms"
   ]
  },
  {
   "cell_type": "code",
   "execution_count": 15,
   "metadata": {},
   "outputs": [
    {
     "data": {
      "text/plain": [
       "<seaborn.axisgrid.JointGrid at 0x1b0179047c8>"
      ]
     },
     "execution_count": 15,
     "metadata": {},
     "output_type": "execute_result"
    },
    {
     "data": {
      "text/plain": [
       "<Figure size 1008x1008 with 0 Axes>"
      ]
     },
     "metadata": {},
     "output_type": "display_data"
    },
    {
     "data": {
      "image/png": "[encoded data removed]",
      "text/plain": [
       "<Figure size 432x432 with 3 Axes>"
      ]
     },
     "metadata": {},
     "output_type": "display_data"
    }
   ],
   "source": [
    "sns.set_style(\"whitegrid\")\n",
    "\n",
    "fig = plt.gcf()\n",
    "# Changing Seaborn Plot size\n",
    "fig.set_size_inches(14, 14)\n",
    "\n",
    "sns.jointplot(data=df, x='math_score', y='study_hours', kind=\"reg\")"
   ]
  },
  {
   "cell_type": "markdown",
   "metadata": {},
   "source": [
    "# Regressions"
   ]
  },
  {
   "cell_type": "markdown",
   "metadata": {},
   "source": [
    "### Univariate linear regression"
   ]
  },
  {
   "cell_type": "code",
   "execution_count": 6,
   "metadata": {},
   "outputs": [
    {
     "name": "stdout",
     "output_type": "stream",
     "text": [
      "                            OLS Regression Results                            \n",
      "==============================================================================\n",
      "Dep. Variable:             math_score   R-squared:                       0.438\n",
      "Model:                            OLS   Adj. R-squared:                  0.432\n",
      "Method:                 Least Squares   F-statistic:                     76.44\n",
      "Date:                Sun, 25 Oct 2020   Prob (F-statistic):           6.44e-14\n",
      "Time:                        19:59:54   Log-Likelihood:                -393.11\n",
      "No. Observations:                 100   AIC:                             790.2\n",
      "Df Residuals:                      98   BIC:                             795.4\n",
      "Df Model:                           1                                         \n",
      "Covariance Type:            nonrobust                                         \n",
      "===============================================================================\n",
      "                  coef    std err          t      P>|t|      [0.025      0.975]\n",
      "-------------------------------------------------------------------------------\n",
      "const          44.8916      2.825     15.890      0.000      39.285      50.498\n",
      "study_hours     4.5993      0.526      8.743      0.000       3.555       5.643\n",
      "==============================================================================\n",
      "Omnibus:                        2.961   Durbin-Watson:                   0.922\n",
      "Prob(Omnibus):                  0.228   Jarque-Bera (JB):                2.371\n",
      "Skew:                          -0.245   Prob(JB):                        0.306\n",
      "Kurtosis:                       2.427   Cond. No.                         12.5\n",
      "==============================================================================\n",
      "\n",
      "Warnings:\n",
      "[1] Standard Errors assume that the covariance matrix of the errors is correctly specified.\n"
     ]
    }
   ],
   "source": [
    "independent_Var = df['study_hours']\n",
    "dependent_var   = df['math_score']\n",
    "\n",
    "independent_Var = sm.add_constant(independent_Var)\n",
    "\n",
    "# Fit and summarize OLS model\n",
    "linearModel = sm.OLS(dependent_var, independent_Var)\n",
    "results = linearModel.fit()\n",
    "print(results.summary())"
   ]
  },
  {
   "cell_type": "markdown",
   "metadata": {},
   "source": [
    "### Multivariate linear regression"
   ]
  },
  {
   "cell_type": "code",
   "execution_count": 8,
   "metadata": {},
   "outputs": [
    {
     "name": "stdout",
     "output_type": "stream",
     "text": [
      "                            OLS Regression Results                            \n",
      "==============================================================================\n",
      "Dep. Variable:          writing_score   R-squared:                       0.918\n",
      "Model:                            OLS   Adj. R-squared:                  0.917\n",
      "Method:                 Least Squares   F-statistic:                     545.7\n",
      "Date:                Sun, 25 Oct 2020   Prob (F-statistic):           1.67e-53\n",
      "Time:                        21:01:00   Log-Likelihood:                -295.21\n",
      "No. Observations:                 100   AIC:                             596.4\n",
      "Df Residuals:                      97   BIC:                             604.2\n",
      "Df Model:                           2                                         \n",
      "Covariance Type:            nonrobust                                         \n",
      "=================================================================================\n",
      "                    coef    std err          t      P>|t|      [0.025      0.975]\n",
      "---------------------------------------------------------------------------------\n",
      "const            -4.4941      2.307     -1.948      0.054      -9.074       0.085\n",
      "study_hours       0.3355      0.242      1.388      0.168      -0.144       0.815\n",
      "reading_score     1.0150      0.039     26.342      0.000       0.939       1.092\n",
      "==============================================================================\n",
      "Omnibus:                        3.979   Durbin-Watson:                   1.850\n",
      "Prob(Omnibus):                  0.137   Jarque-Bera (JB):                4.097\n",
      "Skew:                          -0.201   Prob(JB):                        0.129\n",
      "Kurtosis:                       3.907   Cond. No.                         353.\n",
      "==============================================================================\n",
      "\n",
      "Warnings:\n",
      "[1] Standard Errors assume that the covariance matrix of the errors is correctly specified.\n"
     ]
    }
   ],
   "source": [
    "independent_Var = df[['study_hours','reading_score']]\n",
    "dependent_var = df['writing_score']\n",
    "# add the constant value to the indpendet variables\n",
    "independent_Var = sm.add_constant(independent_Var)\n",
    "\n",
    "# Fit and summarize OLS model\n",
    "linearModel = sm.OLS(dependent_var, independent_Var)\n",
    "results = linearModel.fit()\n",
    "print(results.summary())"
   ]
  }
 ],
 "metadata": {
  "kernelspec": {
   "display_name": "Python 3",
   "language": "python",
   "name": "python3"
  },
  "language_info": {
   "codemirror_mode": {
    "name": "ipython",
    "version": 3
   },
   "file_extension": ".py",
   "mimetype": "text/x-python",
   "name": "python",
   "nbconvert_exporter": "python",
   "pygments_lexer": "ipython3",
   "version": "3.7.7"
  }
 },
 "nbformat": 4,
 "nbformat_minor": 4
}
