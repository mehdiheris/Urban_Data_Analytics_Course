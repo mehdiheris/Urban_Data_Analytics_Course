{
 "cells": [
  {
   "cell_type": "code",
   "execution_count": 6,
   "metadata": {},
   "outputs": [],
   "source": [
    "import numpy as np\n",
    "import pandas as pd\n",
    "import matplotlib.pyplot as plt\n",
    "import statsmodels.api as sm\n",
    "from statsmodels.formula.api import ols\n",
    "import seaborn as sns"
   ]
  },
  {
   "cell_type": "code",
   "execution_count": 3,
   "metadata": {},
   "outputs": [],
   "source": [
    "# find the path on your disk\n",
    "pathName = r\"C:\\MyFiles\\Dropbox\\Teaching\\Urban_Data_Analsysis\\Fall 2020\\Data\\exam_scores.csv\""
   ]
  },
  {
   "cell_type": "code",
   "execution_count": 4,
   "metadata": {},
   "outputs": [],
   "source": [
    "# read the csv as a dataframe\n",
    "df = pd.read_csv(pathName)"
   ]
  },
  {
   "cell_type": "code",
   "execution_count": 5,
   "metadata": {},
   "outputs": [
    {
     "data": {
      "text/html": [
       "<div>\n",
       "<style scoped>\n",
       "    .dataframe tbody tr th:only-of-type {\n",
       "        vertical-align: middle;\n",
       "    }\n",
       "\n",
       "    .dataframe tbody tr th {\n",
       "        vertical-align: top;\n",
       "    }\n",
       "\n",
       "    .dataframe thead th {\n",
       "        text-align: right;\n",
       "    }\n",
       "</style>\n",
       "<table border=\"1\" class=\"dataframe\">\n",
       "  <thead>\n",
       "    <tr style=\"text-align: right;\">\n",
       "      <th></th>\n",
       "      <th>EthincityGroups</th>\n",
       "      <th>parental_level_of_education</th>\n",
       "      <th>test_preparation_course</th>\n",
       "      <th>math_score</th>\n",
       "      <th>reading_score</th>\n",
       "      <th>writing_score</th>\n",
       "      <th>study_hours</th>\n",
       "    </tr>\n",
       "  </thead>\n",
       "  <tbody>\n",
       "    <tr>\n",
       "      <th>51</th>\n",
       "      <td>group C</td>\n",
       "      <td>some high school</td>\n",
       "      <td>none</td>\n",
       "      <td>68</td>\n",
       "      <td>66</td>\n",
       "      <td>63</td>\n",
       "      <td>3</td>\n",
       "    </tr>\n",
       "    <tr>\n",
       "      <th>62</th>\n",
       "      <td>group C</td>\n",
       "      <td>some college</td>\n",
       "      <td>none</td>\n",
       "      <td>66</td>\n",
       "      <td>86</td>\n",
       "      <td>80</td>\n",
       "      <td>6</td>\n",
       "    </tr>\n",
       "    <tr>\n",
       "      <th>98</th>\n",
       "      <td>group C</td>\n",
       "      <td>some high school</td>\n",
       "      <td>completed</td>\n",
       "      <td>29</td>\n",
       "      <td>46</td>\n",
       "      <td>44</td>\n",
       "      <td>2</td>\n",
       "    </tr>\n",
       "    <tr>\n",
       "      <th>66</th>\n",
       "      <td>group E</td>\n",
       "      <td>high school</td>\n",
       "      <td>none</td>\n",
       "      <td>62</td>\n",
       "      <td>80</td>\n",
       "      <td>74</td>\n",
       "      <td>1</td>\n",
       "    </tr>\n",
       "    <tr>\n",
       "      <th>29</th>\n",
       "      <td>group D</td>\n",
       "      <td>associate's degree</td>\n",
       "      <td>none</td>\n",
       "      <td>75</td>\n",
       "      <td>82</td>\n",
       "      <td>91</td>\n",
       "      <td>8</td>\n",
       "    </tr>\n",
       "    <tr>\n",
       "      <th>61</th>\n",
       "      <td>group E</td>\n",
       "      <td>some college</td>\n",
       "      <td>none</td>\n",
       "      <td>66</td>\n",
       "      <td>64</td>\n",
       "      <td>65</td>\n",
       "      <td>5</td>\n",
       "    </tr>\n",
       "  </tbody>\n",
       "</table>\n",
       "</div>"
      ],
      "text/plain": [
       "   EthincityGroups parental_level_of_education test_preparation_course  \\\n",
       "51         group C            some high school                    none   \n",
       "62         group C                some college                    none   \n",
       "98         group C            some high school               completed   \n",
       "66         group E                 high school                    none   \n",
       "29         group D          associate's degree                    none   \n",
       "61         group E                some college                    none   \n",
       "\n",
       "    math_score  reading_score  writing_score  study_hours  \n",
       "51          68             66             63            3  \n",
       "62          66             86             80            6  \n",
       "98          29             46             44            2  \n",
       "66          62             80             74            1  \n",
       "29          75             82             91            8  \n",
       "61          66             64             65            5  "
      ]
     },
     "execution_count": 5,
     "metadata": {},
     "output_type": "execute_result"
    }
   ],
   "source": [
    "df.sample(6)"
   ]
  },
  {
   "cell_type": "markdown",
   "metadata": {},
   "source": [
    "# T test\n",
    "### The differences between two groups (we need one categorical variable and one numerical variable)"
   ]
  },
  {
   "cell_type": "code",
   "execution_count": 11,
   "metadata": {},
   "outputs": [
    {
     "data": {
      "text/plain": [
       "array(['completed', 'none'], dtype=object)"
      ]
     },
     "execution_count": 11,
     "metadata": {},
     "output_type": "execute_result"
    }
   ],
   "source": [
    "# get the unique values of a categorical variable\n",
    "df['test_preparation_course'].unique()"
   ]
  },
  {
   "cell_type": "markdown",
   "metadata": {},
   "source": [
    "### Let's have a simple boxplot first"
   ]
  },
  {
   "cell_type": "code",
   "execution_count": 21,
   "metadata": {},
   "outputs": [
    {
     "data": {
      "image/png": "[encoded data removed]",
      "text/plain": [
       "<Figure size 360x504 with 1 Axes>"
      ]
     },
     "metadata": {
      "needs_background": "light"
     },
     "output_type": "display_data"
    }
   ],
   "source": [
    "fig = plt.gcf()\n",
    "# Changing Seaborn Plot size\n",
    "fig.set_size_inches(5, 7)\n",
    "# plot\n",
    "sns.boxplot(data=df, x='test_preparation_course', y='math_score');"
   ]
  },
  {
   "cell_type": "code",
   "execution_count": null,
   "metadata": {},
   "outputs": [],
   "source": [
    "# use the unique values to split the dataframe and create two separate dataframes for each group.\n",
    "df_group_1 = df[df['test_preparation_course']=='completed']\n",
    "df_group_2 = df[df['test_preparation_course']=='none']"
   ]
  },
  {
   "cell_type": "code",
   "execution_count": null,
   "metadata": {},
   "outputs": [],
   "source": [
    "# now we need to use statmodels and pass each group (with a column) as an argument\n",
    "# the test returns:\n",
    "## 1) tstat : test statistic\n",
    "## 2) pvalue of the t-test\n",
    "## 3) degrees of freedom used in the t-test\n",
    "sm.stats.ttest_ind(df_group_1['math_score'],df_group_2['math_score'])"
   ]
  },
  {
   "cell_type": "markdown",
   "metadata": {},
   "source": [
    "# One-way ANOVA\n",
    "### differences between multiple groups: we need a categorical variable with more than two groups in it in addition to a numerical variable)"
   ]
  },
  {
   "cell_type": "code",
   "execution_count": 17,
   "metadata": {},
   "outputs": [
    {
     "data": {
      "text/html": [
       "<div>\n",
       "<style scoped>\n",
       "    .dataframe tbody tr th:only-of-type {\n",
       "        vertical-align: middle;\n",
       "    }\n",
       "\n",
       "    .dataframe tbody tr th {\n",
       "        vertical-align: top;\n",
       "    }\n",
       "\n",
       "    .dataframe thead th {\n",
       "        text-align: right;\n",
       "    }\n",
       "</style>\n",
       "<table border=\"1\" class=\"dataframe\">\n",
       "  <thead>\n",
       "    <tr style=\"text-align: right;\">\n",
       "      <th></th>\n",
       "      <th>median</th>\n",
       "      <th>mean</th>\n",
       "    </tr>\n",
       "    <tr>\n",
       "      <th>parental_level_of_education</th>\n",
       "      <th></th>\n",
       "      <th></th>\n",
       "    </tr>\n",
       "  </thead>\n",
       "  <tbody>\n",
       "    <tr>\n",
       "      <th>associate's degree</th>\n",
       "      <td>72.5</td>\n",
       "      <td>72.937500</td>\n",
       "    </tr>\n",
       "    <tr>\n",
       "      <th>bachelor's degree</th>\n",
       "      <td>73.0</td>\n",
       "      <td>71.333333</td>\n",
       "    </tr>\n",
       "    <tr>\n",
       "      <th>high school</th>\n",
       "      <td>61.0</td>\n",
       "      <td>56.307692</td>\n",
       "    </tr>\n",
       "    <tr>\n",
       "      <th>master's degree</th>\n",
       "      <td>75.0</td>\n",
       "      <td>70.454545</td>\n",
       "    </tr>\n",
       "    <tr>\n",
       "      <th>some college</th>\n",
       "      <td>70.5</td>\n",
       "      <td>68.437500</td>\n",
       "    </tr>\n",
       "    <tr>\n",
       "      <th>some high school</th>\n",
       "      <td>67.5</td>\n",
       "      <td>61.625000</td>\n",
       "    </tr>\n",
       "  </tbody>\n",
       "</table>\n",
       "</div>"
      ],
      "text/plain": [
       "                             median       mean\n",
       "parental_level_of_education                   \n",
       "associate's degree             72.5  72.937500\n",
       "bachelor's degree              73.0  71.333333\n",
       "high school                    61.0  56.307692\n",
       "master's degree                75.0  70.454545\n",
       "some college                   70.5  68.437500\n",
       "some high school               67.5  61.625000"
      ]
     },
     "execution_count": 17,
     "metadata": {},
     "output_type": "execute_result"
    }
   ],
   "source": [
    "# let's see the mean and median of each group\n",
    "grp = df.groupby('parental_level_of_education')\n",
    "grp['math_score'].agg([np.median, np.mean])"
   ]
  },
  {
   "cell_type": "markdown",
   "metadata": {},
   "source": [
    "#### let's plot the math score for the groups"
   ]
  },
  {
   "cell_type": "code",
   "execution_count": 18,
   "metadata": {},
   "outputs": [
    {
     "data": {
      "image/png": "[encoded data removed]",
      "text/plain": [
       "<Figure size 720x504 with 1 Axes>"
      ]
     },
     "metadata": {
      "needs_background": "light"
     },
     "output_type": "display_data"
    }
   ],
   "source": [
    "fig = plt.gcf()\n",
    "# Changing Seaborn Plot size\n",
    "fig.set_size_inches(10, 7)\n",
    "\n",
    "sns.boxplot(data=df, x='parental_level_of_education', y='math_score');"
   ]
  },
  {
   "cell_type": "code",
   "execution_count": 12,
   "metadata": {},
   "outputs": [
    {
     "name": "stdout",
     "output_type": "stream",
     "text": [
      "                                  sum_sq    df         F    PR(>F)\n",
      "parental_level_of_education   2934.91433   5.0  2.286183  0.052239\n",
      "Residual                     24134.72567  94.0       NaN       NaN\n"
     ]
    }
   ],
   "source": [
    "# we need to pass the dataframe as the input. notice the syntax for columns\n",
    "my_model = ols('math_score ~ parental_level_of_education', data = df).fit()\n",
    "anova_table = sm.stats.anova_lm(my_model, typ=2)\n",
    "# print the results\n",
    "print(anova_table)"
   ]
  },
  {
   "cell_type": "markdown",
   "metadata": {},
   "source": [
    "# post hoc tests"
   ]
  },
  {
   "cell_type": "code",
   "execution_count": 14,
   "metadata": {},
   "outputs": [
    {
     "data": {
      "text/html": [
       "<table class=\"simpletable\">\n",
       "<caption>Multiple Comparison of Means - Tukey HSD, FWER=0.05</caption>\n",
       "<tr>\n",
       "        <th>group1</th>            <th>group2</th>       <th>meandiff</th>  <th>p-adj</th>   <th>lower</th>   <th>upper</th>  <th>reject</th>\n",
       "</tr>\n",
       "<tr>\n",
       "  <td>associate's degree</td> <td>bachelor's degree</td>  <td>-1.6042</td>   <td>0.9</td>  <td>-19.4063</td> <td>16.198</td>   <td>False</td>\n",
       "</tr>\n",
       "<tr>\n",
       "  <td>associate's degree</td>    <td>high school</td>    <td>-16.6298</td> <td>0.0699</td> <td>-34.0363</td> <td>0.7767</td>   <td>False</td>\n",
       "</tr>\n",
       "<tr>\n",
       "  <td>associate's degree</td>  <td>master's degree</td>   <td>-2.483</td>    <td>0.9</td>  <td>-20.7416</td> <td>15.7757</td>  <td>False</td>\n",
       "</tr>\n",
       "<tr>\n",
       "  <td>associate's degree</td>   <td>some college</td>      <td>-4.5</td>     <td>0.9</td>  <td>-18.7735</td> <td>9.7735</td>   <td>False</td>\n",
       "</tr>\n",
       "<tr>\n",
       "  <td>associate's degree</td> <td>some high school</td>  <td>-11.3125</td> <td>0.3524</td> <td>-27.7941</td> <td>5.1691</td>   <td>False</td>\n",
       "</tr>\n",
       "<tr>\n",
       "   <td>bachelor's degree</td>    <td>high school</td>    <td>-15.0256</td> <td>0.1877</td> <td>-33.6873</td> <td>3.6361</td>   <td>False</td>\n",
       "</tr>\n",
       "<tr>\n",
       "   <td>bachelor's degree</td>  <td>master's degree</td>   <td>-0.8788</td>   <td>0.9</td>  <td>-20.3378</td> <td>18.5802</td>  <td>False</td>\n",
       "</tr>\n",
       "<tr>\n",
       "   <td>bachelor's degree</td>   <td>some college</td>     <td>-2.8958</td>   <td>0.9</td>  <td>-18.6757</td> <td>12.8841</td>  <td>False</td>\n",
       "</tr>\n",
       "<tr>\n",
       "   <td>bachelor's degree</td> <td>some high school</td>   <td>-9.7083</td> <td>0.5949</td> <td>-27.5105</td> <td>8.0938</td>   <td>False</td>\n",
       "</tr>\n",
       "<tr>\n",
       "      <td>high school</td>     <td>master's degree</td>   <td>14.1469</td> <td>0.2688</td>  <td>-4.9508</td> <td>33.2445</td>  <td>False</td>\n",
       "</tr>\n",
       "<tr>\n",
       "      <td>high school</td>      <td>some college</td>     <td>12.1298</td> <td>0.2037</td>  <td>-3.2023</td> <td>27.462</td>   <td>False</td>\n",
       "</tr>\n",
       "<tr>\n",
       "      <td>high school</td>    <td>some high school</td>   <td>5.3173</td>    <td>0.9</td>  <td>-12.0892</td> <td>22.7238</td>  <td>False</td>\n",
       "</tr>\n",
       "<tr>\n",
       "    <td>master's degree</td>    <td>some college</td>     <td>-2.017</td>    <td>0.9</td>  <td>-18.3102</td> <td>14.2761</td>  <td>False</td>\n",
       "</tr>\n",
       "<tr>\n",
       "    <td>master's degree</td>  <td>some high school</td>   <td>-8.8295</td> <td>0.6972</td> <td>-27.0882</td> <td>9.4291</td>   <td>False</td>\n",
       "</tr>\n",
       "<tr>\n",
       "     <td>some college</td>    <td>some high school</td>   <td>-6.8125</td> <td>0.7076</td>  <td>-21.086</td>  <td>7.461</td>   <td>False</td>\n",
       "</tr>\n",
       "</table>"
      ],
      "text/plain": [
       "<class 'statsmodels.iolib.table.SimpleTable'>"
      ]
     },
     "execution_count": 14,
     "metadata": {},
     "output_type": "execute_result"
    }
   ],
   "source": [
    "# effect size\n",
    "import statsmodels.stats.multicomp as mc\n",
    "comp = mc.MultiComparison(df['math_score'], df['parental_level_of_education'])\n",
    "post_hoc_res = comp.tukeyhsd()\n",
    "post_hoc_res.summary()"
   ]
  },
  {
   "cell_type": "code",
   "execution_count": 16,
   "metadata": {},
   "outputs": [
    {
     "data": {
      "image/png": "[encoded data removed]",
      "text/plain": [
       "<Figure size 720x432 with 1 Axes>"
      ]
     },
     "metadata": {
      "needs_background": "light"
     },
     "output_type": "display_data"
    }
   ],
   "source": [
    "post_hoc_res.plot_simultaneous(ylabel= \"parental_level_of_education\", xlabel= \"math_score\");"
   ]
  }
 ],
 "metadata": {
  "kernelspec": {
   "display_name": "Python 3",
   "language": "python",
   "name": "python3"
  },
  "language_info": {
   "codemirror_mode": {
    "name": "ipython",
    "version": 3
   },
   "file_extension": ".py",
   "mimetype": "text/x-python",
   "name": "python",
   "nbconvert_exporter": "python",
   "pygments_lexer": "ipython3",
   "version": "3.7.7"
  }
 },
 "nbformat": 4,
 "nbformat_minor": 4
}
