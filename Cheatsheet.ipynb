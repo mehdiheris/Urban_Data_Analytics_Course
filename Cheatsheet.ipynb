{
 "cells": [
  {
   "cell_type": "markdown",
   "metadata": {},
   "source": [
    "### import libraries\n",
    "use the following lines to import the packages that you need. If you remove the #, then they will be executable."
   ]
  },
  {
   "cell_type": "code",
   "execution_count": null,
   "metadata": {},
   "outputs": [],
   "source": [
    "# import numpy as np\n",
    "# import pandas as pd\n",
    "# import matplotlib.pyplot as plt\n",
    "# import seaborn as sns\n",
    "# from scipy import stats as spt"
   ]
  },
  {
   "cell_type": "markdown",
   "metadata": {},
   "source": [
    "### path name:\n",
    "find the path of the file in your computer. Remember that you need to add the name and the extension of the file at the end.\n",
    "In wondowns add r to make sure that Python identifies this line as a path name."
   ]
  },
  {
   "cell_type": "code",
   "execution_count": null,
   "metadata": {},
   "outputs": [],
   "source": [
    "pathName = r'C:\\MyFiles\\Dropbox\\Teaching\\Urban_Data_Analsysis\\Fall 2020\\Data\\exam_scores.csv'"
   ]
  },
  {
   "cell_type": "markdown",
   "metadata": {},
   "source": [
    "### read the file into a dataframe.\n",
    "A dataframe is basically a table. using the following line, you can read a csv line and convert it to a dataframe."
   ]
  },
  {
   "cell_type": "code",
   "execution_count": null,
   "metadata": {},
   "outputs": [],
   "source": [
    "df = pd.read_csv(pathName)"
   ]
  },
  {
   "cell_type": "markdown",
   "metadata": {},
   "source": [
    "### you can read jason files from NYC's open data API. copy and paste the url."
   ]
  },
  {
   "cell_type": "code",
   "execution_count": null,
   "metadata": {},
   "outputs": [],
   "source": [
    "# add the url here and read it as a dataframe\n",
    "df = pd.read_json('https://data.cityofnewyork.us/resource/kku6-nxdu.json')"
   ]
  },
  {
   "cell_type": "markdown",
   "metadata": {},
   "source": [
    "### see the list of all columns"
   ]
  },
  {
   "cell_type": "code",
   "execution_count": null,
   "metadata": {},
   "outputs": [],
   "source": [
    "df.columns"
   ]
  },
  {
   "cell_type": "markdown",
   "metadata": {},
   "source": [
    "### get a column of a dataframe\n",
    "Read the column and and name it as a new variable. the name of the column should be in single qoutation 'col'"
   ]
  },
  {
   "cell_type": "code",
   "execution_count": null,
   "metadata": {},
   "outputs": [],
   "source": [
    "col = df['col_1']"
   ]
  },
  {
   "cell_type": "markdown",
   "metadata": {},
   "source": [
    "### histogram\n",
    "you can use plt to plot a histogram. plt.hist() needs at leas the x axis as an argument. \n",
    "Use \"bins =\"  to specify the number of bins (bars)."
   ]
  },
  {
   "cell_type": "code",
   "execution_count": null,
   "metadata": {},
   "outputs": [],
   "source": [
    "plt.hist(col,bins=8);"
   ]
  },
  {
   "cell_type": "markdown",
   "metadata": {},
   "source": [
    "### some measures of a column\n",
    "mean, standard deviation, max, min, median, and sum."
   ]
  },
  {
   "cell_type": "code",
   "execution_count": null,
   "metadata": {},
   "outputs": [],
   "source": [
    "col.mean()\n",
    "col.std()\n",
    "col.max()\n",
    "col.min()\n",
    "col.sum()\n",
    "col.median()"
   ]
  },
  {
   "cell_type": "markdown",
   "metadata": {},
   "source": [
    "### scatter plots\n",
    "They need two columns that will be passed as two arguments. one for the x axis and one for the y axis. \n",
    "Use \"alpha = \" with a number between 0 and 1 to increase the transparency of the markers.\n",
    "Use \"c= 'red'\" to add colors. \n",
    "Use \"s = \" to set the size of markers.\n",
    "Use \"marker = \" to set the shape of markers. Check the doumentation for more detials. \n",
    "plt.scatter? will give you more details."
   ]
  },
  {
   "cell_type": "code",
   "execution_count": null,
   "metadata": {},
   "outputs": [],
   "source": [
    "plt.scatter?"
   ]
  },
  {
   "cell_type": "code",
   "execution_count": null,
   "metadata": {},
   "outputs": [],
   "source": [
    "plt.scatter(col1,col2,alpha=0.5,s=200,c ='red',marker='^')"
   ]
  },
  {
   "cell_type": "markdown",
   "metadata": {},
   "source": [
    "### Correlation Coefficient\n",
    "There are multiple ways to get the correlation of two cols"
   ]
  },
  {
   "cell_type": "code",
   "execution_count": null,
   "metadata": {},
   "outputs": [],
   "source": [
    "# numpy has this easy function. However, you need to filter out all the nan values before. \n",
    "np.corrcoef(col1,col2)"
   ]
  },
  {
   "cell_type": "code",
   "execution_count": null,
   "metadata": {},
   "outputs": [],
   "source": [
    "# Scipy's way; This will also give you the P value.\n",
    "spt.pearsonr(col1,col2)"
   ]
  },
  {
   "cell_type": "code",
   "execution_count": null,
   "metadata": {},
   "outputs": [],
   "source": [
    "# pandas' way; this will create a matrix of all columns. You may want to get a subset of columns only.\n",
    "df.corr()"
   ]
  },
  {
   "cell_type": "code",
   "execution_count": null,
   "metadata": {},
   "outputs": [],
   "source": [
    "# to get a subset of columns only\n",
    "new_df = df[['col1','col2','col3']]\n",
    "# now get the correlation matrix for this new dataframe\n",
    "new_df.corr()"
   ]
  },
  {
   "cell_type": "markdown",
   "metadata": {},
   "source": [
    "### Filtering a dataframe or getting a subset"
   ]
  },
  {
   "cell_type": "code",
   "execution_count": null,
   "metadata": {},
   "outputs": [],
   "source": [
    "# to get a subset of a dataframe using a numerical variable\n",
    "# df[condition]\n",
    "df_sub_1 = df[df['col1']> aNumber]"
   ]
  },
  {
   "cell_type": "code",
   "execution_count": null,
   "metadata": {},
   "outputs": [],
   "source": [
    "# to get a subset of a dataframe using a categorical variable. you need to specify the name of cateogry in the line after ==\n",
    "df_sub_2 = df[df['col2']=='category value']"
   ]
  },
  {
   "cell_type": "code",
   "execution_count": null,
   "metadata": {},
   "outputs": [],
   "source": [
    "# to have multiple conditions use & for AND and | for OR. Do not foroget to use ()s to separate the conditions\n",
    "# df[(condition_11)&(condition_2)]\n",
    "df_sub_3 = df[(df['col2']=='category value')&(df['col1']> aNumber)]"
   ]
  },
  {
   "cell_type": "markdown",
   "metadata": {},
   "source": [
    "### get the unique values of a column; very helpful for categorical variables"
   ]
  },
  {
   "cell_type": "code",
   "execution_count": null,
   "metadata": {},
   "outputs": [],
   "source": [
    "df['col1'].unique()"
   ]
  }
 ],
 "metadata": {
  "kernelspec": {
   "display_name": "Python 3",
   "language": "python",
   "name": "python3"
  },
  "language_info": {
   "codemirror_mode": {
    "name": "ipython",
    "version": 3
   },
   "file_extension": ".py",
   "mimetype": "text/x-python",
   "name": "python",
   "nbconvert_exporter": "python",
   "pygments_lexer": "ipython3",
   "version": "3.7.7"
  }
 },
 "nbformat": 4,
 "nbformat_minor": 4
}
