{
 "cells": [
  {
   "cell_type": "code",
   "execution_count": 152,
   "metadata": {},
   "outputs": [],
   "source": [
    "# Import required libraries\n",
    "import pandas as pd\n",
    "from sklearn.datasets import load_iris\n",
    "from factor_analyzer import FactorAnalyzer\n",
    "import matplotlib.pyplot as plt\n",
    "import numpy as np\n",
    "import seaborn as sns\n"
   ]
  },
  {
   "cell_type": "code",
   "execution_count": 153,
   "metadata": {},
   "outputs": [],
   "source": [
    "# set the address of the file on your disk\n",
    "pathname = (r\"C:\\MyFiles\\Dropbox\\Teaching\\Advanced_GIS_for_Environmental_Planning\\Data\\NYC\\CensusTracts\\Census_Tracts_with_Data_cleaned.csv\")"
   ]
  },
  {
   "cell_type": "code",
   "execution_count": 154,
   "metadata": {},
   "outputs": [
    {
     "data": {
      "text/html": [
       "<div>\n",
       "<style scoped>\n",
       "    .dataframe tbody tr th:only-of-type {\n",
       "        vertical-align: middle;\n",
       "    }\n",
       "\n",
       "    .dataframe tbody tr th {\n",
       "        vertical-align: top;\n",
       "    }\n",
       "\n",
       "    .dataframe thead th {\n",
       "        text-align: right;\n",
       "    }\n",
       "</style>\n",
       "<table border=\"1\" class=\"dataframe\">\n",
       "  <thead>\n",
       "    <tr style=\"text-align: right;\">\n",
       "      <th></th>\n",
       "      <th>GISJOIN</th>\n",
       "      <th>Population2000</th>\n",
       "      <th>NH_White_2000</th>\n",
       "      <th>NH_Black_2000</th>\n",
       "      <th>Asian_2000</th>\n",
       "      <th>Hispanic_2000</th>\n",
       "      <th>Other_2000</th>\n",
       "      <th>Pct_NH_White_2000</th>\n",
       "      <th>Pct_NH_Black_2000</th>\n",
       "      <th>Pct_NH_Asian_2000</th>\n",
       "      <th>...</th>\n",
       "      <th>RatioHsngUnitsChange0610_2000</th>\n",
       "      <th>Borough_Name</th>\n",
       "      <th>HeatVulIndex</th>\n",
       "      <th>pctRentChange</th>\n",
       "      <th>DOB_Perm90_99</th>\n",
       "      <th>DOB_Perm2000_07</th>\n",
       "      <th>DOB_Perm_08_15</th>\n",
       "      <th>DOB_Perm16_21</th>\n",
       "      <th>DOB_PrmCnt</th>\n",
       "      <th>SideWalkCafeCount</th>\n",
       "    </tr>\n",
       "  </thead>\n",
       "  <tbody>\n",
       "    <tr>\n",
       "      <th>277</th>\n",
       "      <td>G3600610008300</td>\n",
       "      <td>3477.0</td>\n",
       "      <td>1396.0</td>\n",
       "      <td>427.0</td>\n",
       "      <td>238.0</td>\n",
       "      <td>1356.0</td>\n",
       "      <td>60.0</td>\n",
       "      <td>40.149554</td>\n",
       "      <td>12.280702</td>\n",
       "      <td>6.844981</td>\n",
       "      <td>...</td>\n",
       "      <td>1.072848</td>\n",
       "      <td>Manhattan</td>\n",
       "      <td>2</td>\n",
       "      <td>13.732813</td>\n",
       "      <td>8</td>\n",
       "      <td>20</td>\n",
       "      <td>483</td>\n",
       "      <td>168</td>\n",
       "      <td>679</td>\n",
       "      <td>16</td>\n",
       "    </tr>\n",
       "    <tr>\n",
       "      <th>851</th>\n",
       "      <td>G3600470030800</td>\n",
       "      <td>1691.0</td>\n",
       "      <td>1202.0</td>\n",
       "      <td>5.0</td>\n",
       "      <td>308.0</td>\n",
       "      <td>142.0</td>\n",
       "      <td>34.0</td>\n",
       "      <td>71.0822</td>\n",
       "      <td>0.295683</td>\n",
       "      <td>18.214075</td>\n",
       "      <td>...</td>\n",
       "      <td>1.066852</td>\n",
       "      <td>Brooklyn</td>\n",
       "      <td>3</td>\n",
       "      <td>20.748563</td>\n",
       "      <td>2</td>\n",
       "      <td>67</td>\n",
       "      <td>118</td>\n",
       "      <td>39</td>\n",
       "      <td>226</td>\n",
       "      <td>0</td>\n",
       "    </tr>\n",
       "  </tbody>\n",
       "</table>\n",
       "<p>2 rows × 112 columns</p>\n",
       "</div>"
      ],
      "text/plain": [
       "            GISJOIN  Population2000  NH_White_2000  NH_Black_2000  Asian_2000  \\\n",
       "277  G3600610008300          3477.0         1396.0          427.0       238.0   \n",
       "851  G3600470030800          1691.0         1202.0            5.0       308.0   \n",
       "\n",
       "     Hispanic_2000  Other_2000 Pct_NH_White_2000 Pct_NH_Black_2000  \\\n",
       "277         1356.0        60.0         40.149554         12.280702   \n",
       "851          142.0        34.0           71.0822          0.295683   \n",
       "\n",
       "    Pct_NH_Asian_2000  ... RatioHsngUnitsChange0610_2000 Borough_Name  \\\n",
       "277          6.844981  ...                      1.072848    Manhattan   \n",
       "851         18.214075  ...                      1.066852     Brooklyn   \n",
       "\n",
       "    HeatVulIndex  pctRentChange  DOB_Perm90_99 DOB_Perm2000_07  \\\n",
       "277            2      13.732813              8              20   \n",
       "851            3      20.748563              2              67   \n",
       "\n",
       "     DOB_Perm_08_15  DOB_Perm16_21  DOB_PrmCnt  SideWalkCafeCount  \n",
       "277             483            168         679                 16  \n",
       "851             118             39         226                  0  \n",
       "\n",
       "[2 rows x 112 columns]"
      ]
     },
     "execution_count": 154,
     "metadata": {},
     "output_type": "execute_result"
    }
   ],
   "source": [
    "df = pd.read_csv(pathname)\n",
    "df.sample(2)"
   ]
  },
  {
   "cell_type": "code",
   "execution_count": 155,
   "metadata": {},
   "outputs": [],
   "source": [
    "# Let's get a subset of columns. \n",
    "dfSub = df[['GISJOIN', 'Population2000', 'Pct_NH_White_2000', 'Pct_NH_Black_2000', 'Pct_NH_Asian_2000', 'Pct_Hispanic_2000', 'Pct_Other_2000', 'Pct_EthMinority_2000', 'HousingUnits_2000',\n",
    "             'Pct_VacantUnits_2000',  'MEDHHINC_2000', 'Pct_Age25Up_College_2000', 'Pct_RenterUnits_2000', 'MedianRent_2000', 'MedianHomeValue_2000', \n",
    "            'Population_0610', 'MedianHouseholdIncome_0610', 'HousingUnits_0610', 'MedianGrossRent_0610', 'MedianHouseValue_0610', 'Pct_BachelorOver25_0610', 'Pct_Renters_0610', \n",
    "            'Pct_EthnicMinority_0610', 'Pct_HispanicOrLatino_0610', 'Pct_BlackNonHispanic_0610','Population_1216', 'MedianHsHldIncome_1216', 'HousingUnits_1216','MedGrossRentt_1216',\n",
    "            'MedHseValue_1216', 'Pct_BachelorOver25_1216', 'Pct_RenterOccupied_1216', 'Pct_EthnicMinority_1216', 'Pct_HispanicOrLatino_1216', 'Pct_BlackNonHispanic_1216', \n",
    "            'Pct_VacantHousing_0610', 'Pct_VacantHousing_1216', 'PopulationDensity2000', 'PopulationDensity0610', 'PopulationDensity1216',  'RatioHsngUnitsChange1216_0610', \n",
    "            'RatioHsngUnitsChange0610_2000', 'Borough_Name', 'HeatVulIndex', 'pctRentChange', 'DOB_Perm90_99', 'DOB_Perm2000_07', 'DOB_Perm_08_15', 'DOB_Perm16_21', 'DOB_PrmCnt', \n",
    "            'SideWalkCafeCount']]"
   ]
  },
  {
   "cell_type": "code",
   "execution_count": 156,
   "metadata": {},
   "outputs": [
    {
     "name": "stdout",
     "output_type": "stream",
     "text": [
      "<class 'pandas.core.frame.DataFrame'>\n",
      "RangeIndex: 2147 entries, 0 to 2146\n",
      "Data columns (total 51 columns):\n",
      " #   Column                         Non-Null Count  Dtype  \n",
      "---  ------                         --------------  -----  \n",
      " 0   GISJOIN                        2147 non-null   object \n",
      " 1   Population2000                 2147 non-null   float64\n",
      " 2   Pct_NH_White_2000              2147 non-null   object \n",
      " 3   Pct_NH_Black_2000              2147 non-null   object \n",
      " 4   Pct_NH_Asian_2000              2147 non-null   object \n",
      " 5   Pct_Hispanic_2000              2147 non-null   object \n",
      " 6   Pct_Other_2000                 2147 non-null   object \n",
      " 7   Pct_EthMinority_2000           2147 non-null   object \n",
      " 8   HousingUnits_2000              2147 non-null   float64\n",
      " 9   Pct_VacantUnits_2000           2147 non-null   object \n",
      " 10  MEDHHINC_2000                  2147 non-null   float64\n",
      " 11  Pct_Age25Up_College_2000       2147 non-null   float64\n",
      " 12  Pct_RenterUnits_2000           2147 non-null   float64\n",
      " 13  MedianRent_2000                2147 non-null   float64\n",
      " 14  MedianHomeValue_2000           2147 non-null   float64\n",
      " 15  Population_0610                2147 non-null   int64  \n",
      " 16  MedianHouseholdIncome_0610     2147 non-null   object \n",
      " 17  HousingUnits_0610              2147 non-null   int64  \n",
      " 18  MedianGrossRent_0610           2147 non-null   object \n",
      " 19  MedianHouseValue_0610          2147 non-null   object \n",
      " 20  Pct_BachelorOver25_0610        2147 non-null   object \n",
      " 21  Pct_Renters_0610               2147 non-null   object \n",
      " 22  Pct_EthnicMinority_0610        2147 non-null   object \n",
      " 23  Pct_HispanicOrLatino_0610      2147 non-null   object \n",
      " 24  Pct_BlackNonHispanic_0610      2147 non-null   object \n",
      " 25  Population_1216                2147 non-null   int64  \n",
      " 26  MedianHsHldIncome_1216         2147 non-null   object \n",
      " 27  HousingUnits_1216              2147 non-null   int64  \n",
      " 28  MedGrossRentt_1216             2147 non-null   object \n",
      " 29  MedHseValue_1216               2147 non-null   object \n",
      " 30  Pct_BachelorOver25_1216        2147 non-null   object \n",
      " 31  Pct_RenterOccupied_1216        2147 non-null   object \n",
      " 32  Pct_EthnicMinority_1216        2147 non-null   object \n",
      " 33  Pct_HispanicOrLatino_1216      2147 non-null   object \n",
      " 34  Pct_BlackNonHispanic_1216      2147 non-null   object \n",
      " 35  Pct_VacantHousing_0610         2147 non-null   object \n",
      " 36  Pct_VacantHousing_1216         2147 non-null   object \n",
      " 37  PopulationDensity2000          2147 non-null   float64\n",
      " 38  PopulationDensity0610          2147 non-null   float64\n",
      " 39  PopulationDensity1216          2147 non-null   float64\n",
      " 40  RatioHsngUnitsChange1216_0610  2147 non-null   object \n",
      " 41  RatioHsngUnitsChange0610_2000  2147 non-null   object \n",
      " 42  Borough_Name                   2147 non-null   object \n",
      " 43  HeatVulIndex                   2147 non-null   int64  \n",
      " 44  pctRentChange                  2147 non-null   object \n",
      " 45  DOB_Perm90_99                  2147 non-null   object \n",
      " 46  DOB_Perm2000_07                2147 non-null   object \n",
      " 47  DOB_Perm_08_15                 2147 non-null   object \n",
      " 48  DOB_Perm16_21                  2147 non-null   object \n",
      " 49  DOB_PrmCnt                     2147 non-null   object \n",
      " 50  SideWalkCafeCount              2147 non-null   int64  \n",
      "dtypes: float64(10), int64(6), object(35)\n",
      "memory usage: 855.6+ KB\n"
     ]
    }
   ],
   "source": [
    "dfSub.info()"
   ]
  },
  {
   "cell_type": "code",
   "execution_count": 100,
   "metadata": {},
   "outputs": [
    {
     "data": {
      "text/html": [
       "<div>\n",
       "<style scoped>\n",
       "    .dataframe tbody tr th:only-of-type {\n",
       "        vertical-align: middle;\n",
       "    }\n",
       "\n",
       "    .dataframe tbody tr th {\n",
       "        vertical-align: top;\n",
       "    }\n",
       "\n",
       "    .dataframe thead th {\n",
       "        text-align: right;\n",
       "    }\n",
       "</style>\n",
       "<table border=\"1\" class=\"dataframe\">\n",
       "  <thead>\n",
       "    <tr style=\"text-align: right;\">\n",
       "      <th></th>\n",
       "      <th>GISJOIN</th>\n",
       "      <th>Population2000</th>\n",
       "      <th>Pct_NH_White_2000</th>\n",
       "      <th>Pct_NH_Black_2000</th>\n",
       "      <th>Pct_NH_Asian_2000</th>\n",
       "      <th>Pct_Hispanic_2000</th>\n",
       "      <th>Pct_Other_2000</th>\n",
       "      <th>Pct_EthMinority_2000</th>\n",
       "      <th>HousingUnits_2000</th>\n",
       "      <th>Pct_VacantUnits_2000</th>\n",
       "      <th>...</th>\n",
       "      <th>RatioHsngUnitsChange0610_2000</th>\n",
       "      <th>Borough_Name</th>\n",
       "      <th>HeatVulIndex</th>\n",
       "      <th>pctRentChange</th>\n",
       "      <th>DOB_Perm90_99</th>\n",
       "      <th>DOB_Perm2000_07</th>\n",
       "      <th>DOB_Perm_08_15</th>\n",
       "      <th>DOB_Perm16_21</th>\n",
       "      <th>DOB_PrmCnt</th>\n",
       "      <th>SideWalkCafeCount</th>\n",
       "    </tr>\n",
       "  </thead>\n",
       "  <tbody>\n",
       "    <tr>\n",
       "      <th>398</th>\n",
       "      <td>G3600470032700</td>\n",
       "      <td>3868.0</td>\n",
       "      <td>2.45605</td>\n",
       "      <td>87.978283</td>\n",
       "      <td>0.98242</td>\n",
       "      <td>7.755946</td>\n",
       "      <td>0.827301</td>\n",
       "      <td>97.54395</td>\n",
       "      <td>1539.0</td>\n",
       "      <td>3.378817</td>\n",
       "      <td>...</td>\n",
       "      <td>0.920728</td>\n",
       "      <td>Brooklyn</td>\n",
       "      <td>4</td>\n",
       "      <td>43.115603</td>\n",
       "      <td>0</td>\n",
       "      <td>6</td>\n",
       "      <td>113</td>\n",
       "      <td>60</td>\n",
       "      <td>179</td>\n",
       "      <td>0</td>\n",
       "    </tr>\n",
       "    <tr>\n",
       "      <th>1424</th>\n",
       "      <td>G3600810033900</td>\n",
       "      <td>3703.0</td>\n",
       "      <td>18.147448</td>\n",
       "      <td>4.860924</td>\n",
       "      <td>17.256279</td>\n",
       "      <td>57.953011</td>\n",
       "      <td>1.782339</td>\n",
       "      <td>81.852552</td>\n",
       "      <td>1240.0</td>\n",
       "      <td>1.693548</td>\n",
       "      <td>...</td>\n",
       "      <td>0.994355</td>\n",
       "      <td>Queens</td>\n",
       "      <td>2</td>\n",
       "      <td>10.453106</td>\n",
       "      <td>4</td>\n",
       "      <td>19</td>\n",
       "      <td>73</td>\n",
       "      <td>43</td>\n",
       "      <td>139</td>\n",
       "      <td>0</td>\n",
       "    </tr>\n",
       "  </tbody>\n",
       "</table>\n",
       "<p>2 rows × 51 columns</p>\n",
       "</div>"
      ],
      "text/plain": [
       "             GISJOIN  Population2000 Pct_NH_White_2000 Pct_NH_Black_2000  \\\n",
       "398   G3600470032700          3868.0           2.45605         87.978283   \n",
       "1424  G3600810033900          3703.0         18.147448          4.860924   \n",
       "\n",
       "     Pct_NH_Asian_2000 Pct_Hispanic_2000 Pct_Other_2000 Pct_EthMinority_2000  \\\n",
       "398            0.98242          7.755946       0.827301             97.54395   \n",
       "1424         17.256279         57.953011       1.782339            81.852552   \n",
       "\n",
       "      HousingUnits_2000 Pct_VacantUnits_2000  ...  \\\n",
       "398              1539.0             3.378817  ...   \n",
       "1424             1240.0             1.693548  ...   \n",
       "\n",
       "      RatioHsngUnitsChange0610_2000  Borough_Name  HeatVulIndex  \\\n",
       "398                        0.920728      Brooklyn             4   \n",
       "1424                       0.994355        Queens             2   \n",
       "\n",
       "      pctRentChange  DOB_Perm90_99  DOB_Perm2000_07 DOB_Perm_08_15  \\\n",
       "398       43.115603              0                6            113   \n",
       "1424      10.453106              4               19             73   \n",
       "\n",
       "      DOB_Perm16_21 DOB_PrmCnt SideWalkCafeCount  \n",
       "398              60        179                 0  \n",
       "1424             43        139                 0  \n",
       "\n",
       "[2 rows x 51 columns]"
      ]
     },
     "execution_count": 100,
     "metadata": {},
     "output_type": "execute_result"
    }
   ],
   "source": [
    "dfSub.sample(2)"
   ]
  },
  {
   "cell_type": "code",
   "execution_count": 157,
   "metadata": {},
   "outputs": [
    {
     "data": {
      "text/plain": [
       "Index(['GISJOIN', 'Population2000', 'Pct_NH_White_2000', 'Pct_NH_Black_2000',\n",
       "       'Pct_NH_Asian_2000', 'Pct_Hispanic_2000', 'Pct_Other_2000',\n",
       "       'Pct_EthMinority_2000', 'HousingUnits_2000', 'Pct_VacantUnits_2000',\n",
       "       'MEDHHINC_2000', 'Pct_Age25Up_College_2000', 'Pct_RenterUnits_2000',\n",
       "       'MedianRent_2000', 'MedianHomeValue_2000', 'Population_0610',\n",
       "       'MedianHouseholdIncome_0610', 'HousingUnits_0610',\n",
       "       'MedianGrossRent_0610', 'MedianHouseValue_0610',\n",
       "       'Pct_BachelorOver25_0610', 'Pct_Renters_0610',\n",
       "       'Pct_EthnicMinority_0610', 'Pct_HispanicOrLatino_0610',\n",
       "       'Pct_BlackNonHispanic_0610', 'Population_1216',\n",
       "       'MedianHsHldIncome_1216', 'HousingUnits_1216', 'MedGrossRentt_1216',\n",
       "       'MedHseValue_1216', 'Pct_BachelorOver25_1216',\n",
       "       'Pct_RenterOccupied_1216', 'Pct_EthnicMinority_1216',\n",
       "       'Pct_HispanicOrLatino_1216', 'Pct_BlackNonHispanic_1216',\n",
       "       'Pct_VacantHousing_0610', 'Pct_VacantHousing_1216',\n",
       "       'PopulationDensity2000', 'PopulationDensity0610',\n",
       "       'PopulationDensity1216', 'RatioHsngUnitsChange1216_0610',\n",
       "       'RatioHsngUnitsChange0610_2000', 'Borough_Name', 'HeatVulIndex',\n",
       "       'pctRentChange', 'DOB_Perm90_99', 'DOB_Perm2000_07', 'DOB_Perm_08_15',\n",
       "       'DOB_Perm16_21', 'DOB_PrmCnt', 'SideWalkCafeCount'],\n",
       "      dtype='object')"
      ]
     },
     "execution_count": 157,
     "metadata": {},
     "output_type": "execute_result"
    }
   ],
   "source": [
    "dfSub.columns"
   ]
  },
  {
   "cell_type": "code",
   "execution_count": 158,
   "metadata": {},
   "outputs": [],
   "source": [
    "# list of columns to convert numerical variables\n",
    "lstCols = ['Population2000', 'Pct_NH_White_2000',\n",
    "           'Pct_NH_Black_2000', 'Pct_NH_Asian_2000', 'Pct_Hispanic_2000',\n",
    "           'Pct_Other_2000', 'Pct_EthMinority_2000', 'HousingUnits_2000',\n",
    "           'Pct_VacantUnits_2000', 'MEDHHINC_2000', 'Pct_Age25Up_College_2000',\n",
    "           'Pct_RenterUnits_2000', 'MedianRent_2000', 'MedianHomeValue_2000',\n",
    "           'Population_0610', 'MedianHouseholdIncome_0610', 'HousingUnits_0610',\n",
    "           'MedianGrossRent_0610', 'MedianHouseValue_0610',\n",
    "           'Pct_BachelorOver25_0610', 'Pct_Renters_0610',\n",
    "           'Pct_EthnicMinority_0610', 'Pct_HispanicOrLatino_0610',\n",
    "           'Pct_BlackNonHispanic_0610', 'Population_1216',\n",
    "           'MedianHsHldIncome_1216', 'HousingUnits_1216', 'MedGrossRentt_1216',\n",
    "           'MedHseValue_1216', 'Pct_BachelorOver25_1216',\n",
    "           'Pct_RenterOccupied_1216', 'Pct_EthnicMinority_1216',\n",
    "           'Pct_HispanicOrLatino_1216', 'Pct_BlackNonHispanic_1216',\n",
    "           'Pct_VacantHousing_0610', 'Pct_VacantHousing_1216',\n",
    "           'PopulationDensity2000', 'PopulationDensity0610',\n",
    "           'PopulationDensity1216', 'RatioHsngUnitsChange1216_0610',\n",
    "           'RatioHsngUnitsChange0610_2000', 'HeatVulIndex', 'pctRentChange',\n",
    "           'DOB_Perm90_99', 'DOB_Perm2000_07', 'DOB_Perm_08_15', 'DOB_Perm16_21',\n",
    "           'DOB_PrmCnt',  'SideWalkCafeCount'\n",
    "           ]"
   ]
  },
  {
   "cell_type": "code",
   "execution_count": 159,
   "metadata": {},
   "outputs": [
    {
     "name": "stderr",
     "output_type": "stream",
     "text": [
      "C:\\Users\\Mehdi\\.conda\\envs\\UrbanDataAnalysis\\lib\\site-packages\\ipykernel_launcher.py:2: SettingWithCopyWarning: \n",
      "A value is trying to be set on a copy of a slice from a DataFrame.\n",
      "Try using .loc[row_indexer,col_indexer] = value instead\n",
      "\n",
      "See the caveats in the documentation: https://pandas.pydata.org/pandas-docs/stable/user_guide/indexing.html#returning-a-view-versus-a-copy\n",
      "  \n"
     ]
    }
   ],
   "source": [
    "# Convert the columns to numerica variables. \n",
    "for item in lstCols:\n",
    "    dfSub[item] = pd.to_numeric(dfSub[item], errors='coerce')\n",
    "# dfSub.replace([np.inf, -np.inf,0], np.nan)\n",
    "# # drop nan values\n",
    "# dfSub.dropna(inplace=True)"
   ]
  },
  {
   "cell_type": "code",
   "execution_count": 160,
   "metadata": {},
   "outputs": [
    {
     "data": {
      "text/html": [
       "<div>\n",
       "<style scoped>\n",
       "    .dataframe tbody tr th:only-of-type {\n",
       "        vertical-align: middle;\n",
       "    }\n",
       "\n",
       "    .dataframe tbody tr th {\n",
       "        vertical-align: top;\n",
       "    }\n",
       "\n",
       "    .dataframe thead th {\n",
       "        text-align: right;\n",
       "    }\n",
       "</style>\n",
       "<table border=\"1\" class=\"dataframe\">\n",
       "  <thead>\n",
       "    <tr style=\"text-align: right;\">\n",
       "      <th></th>\n",
       "      <th>GISJOIN</th>\n",
       "      <th>Population2000</th>\n",
       "      <th>Pct_NH_White_2000</th>\n",
       "      <th>Pct_NH_Black_2000</th>\n",
       "      <th>Pct_NH_Asian_2000</th>\n",
       "      <th>Pct_Hispanic_2000</th>\n",
       "      <th>Pct_Other_2000</th>\n",
       "      <th>Pct_EthMinority_2000</th>\n",
       "      <th>HousingUnits_2000</th>\n",
       "      <th>Pct_VacantUnits_2000</th>\n",
       "      <th>...</th>\n",
       "      <th>RatioHsngUnitsChange0610_2000</th>\n",
       "      <th>Borough_Name</th>\n",
       "      <th>HeatVulIndex</th>\n",
       "      <th>pctRentChange</th>\n",
       "      <th>DOB_Perm90_99</th>\n",
       "      <th>DOB_Perm2000_07</th>\n",
       "      <th>DOB_Perm_08_15</th>\n",
       "      <th>DOB_Perm16_21</th>\n",
       "      <th>DOB_PrmCnt</th>\n",
       "      <th>SideWalkCafeCount</th>\n",
       "    </tr>\n",
       "  </thead>\n",
       "  <tbody>\n",
       "    <tr>\n",
       "      <th>363</th>\n",
       "      <td>G3600610013000</td>\n",
       "      <td>4622.0</td>\n",
       "      <td>90.437040</td>\n",
       "      <td>1.492860</td>\n",
       "      <td>3.634790</td>\n",
       "      <td>3.916054</td>\n",
       "      <td>0.519256</td>\n",
       "      <td>9.562960</td>\n",
       "      <td>2976.0</td>\n",
       "      <td>19.455645</td>\n",
       "      <td>...</td>\n",
       "      <td>0.982863</td>\n",
       "      <td>Manhattan</td>\n",
       "      <td>1</td>\n",
       "      <td>3.695031</td>\n",
       "      <td>98.0</td>\n",
       "      <td>23.0</td>\n",
       "      <td>1926.0</td>\n",
       "      <td>634.0</td>\n",
       "      <td>2681.0</td>\n",
       "      <td>6</td>\n",
       "    </tr>\n",
       "    <tr>\n",
       "      <th>1848</th>\n",
       "      <td>G3600050021800</td>\n",
       "      <td>6648.0</td>\n",
       "      <td>5.851384</td>\n",
       "      <td>27.933213</td>\n",
       "      <td>4.241877</td>\n",
       "      <td>61.116125</td>\n",
       "      <td>0.857401</td>\n",
       "      <td>94.148616</td>\n",
       "      <td>2410.0</td>\n",
       "      <td>5.767635</td>\n",
       "      <td>...</td>\n",
       "      <td>1.000000</td>\n",
       "      <td>Bronx</td>\n",
       "      <td>4</td>\n",
       "      <td>40.771637</td>\n",
       "      <td>1.0</td>\n",
       "      <td>47.0</td>\n",
       "      <td>85.0</td>\n",
       "      <td>73.0</td>\n",
       "      <td>206.0</td>\n",
       "      <td>0</td>\n",
       "    </tr>\n",
       "  </tbody>\n",
       "</table>\n",
       "<p>2 rows × 51 columns</p>\n",
       "</div>"
      ],
      "text/plain": [
       "             GISJOIN  Population2000  Pct_NH_White_2000  Pct_NH_Black_2000  \\\n",
       "363   G3600610013000          4622.0          90.437040           1.492860   \n",
       "1848  G3600050021800          6648.0           5.851384          27.933213   \n",
       "\n",
       "      Pct_NH_Asian_2000  Pct_Hispanic_2000  Pct_Other_2000  \\\n",
       "363            3.634790           3.916054        0.519256   \n",
       "1848           4.241877          61.116125        0.857401   \n",
       "\n",
       "      Pct_EthMinority_2000  HousingUnits_2000  Pct_VacantUnits_2000  ...  \\\n",
       "363               9.562960             2976.0             19.455645  ...   \n",
       "1848             94.148616             2410.0              5.767635  ...   \n",
       "\n",
       "      RatioHsngUnitsChange0610_2000  Borough_Name  HeatVulIndex  \\\n",
       "363                        0.982863     Manhattan             1   \n",
       "1848                       1.000000         Bronx             4   \n",
       "\n",
       "      pctRentChange  DOB_Perm90_99  DOB_Perm2000_07  DOB_Perm_08_15  \\\n",
       "363        3.695031           98.0             23.0          1926.0   \n",
       "1848      40.771637            1.0             47.0            85.0   \n",
       "\n",
       "      DOB_Perm16_21  DOB_PrmCnt  SideWalkCafeCount  \n",
       "363           634.0      2681.0                  6  \n",
       "1848           73.0       206.0                  0  \n",
       "\n",
       "[2 rows x 51 columns]"
      ]
     },
     "execution_count": 160,
     "metadata": {},
     "output_type": "execute_result"
    }
   ],
   "source": [
    "dfSub.sample(2)"
   ]
  },
  {
   "cell_type": "code",
   "execution_count": 161,
   "metadata": {},
   "outputs": [
    {
     "data": {
      "text/plain": [
       "2147"
      ]
     },
     "execution_count": 161,
     "metadata": {},
     "output_type": "execute_result"
    }
   ],
   "source": [
    "len(dfSub)"
   ]
  },
  {
   "cell_type": "code",
   "execution_count": 162,
   "metadata": {},
   "outputs": [
    {
     "name": "stdout",
     "output_type": "stream",
     "text": [
      "<class 'pandas.core.frame.DataFrame'>\n",
      "RangeIndex: 2147 entries, 0 to 2146\n",
      "Data columns (total 51 columns):\n",
      " #   Column                         Non-Null Count  Dtype  \n",
      "---  ------                         --------------  -----  \n",
      " 0   GISJOIN                        2147 non-null   object \n",
      " 1   Population2000                 2147 non-null   float64\n",
      " 2   Pct_NH_White_2000              2140 non-null   float64\n",
      " 3   Pct_NH_Black_2000              2140 non-null   float64\n",
      " 4   Pct_NH_Asian_2000              2140 non-null   float64\n",
      " 5   Pct_Hispanic_2000              2140 non-null   float64\n",
      " 6   Pct_Other_2000                 2140 non-null   float64\n",
      " 7   Pct_EthMinority_2000           2140 non-null   float64\n",
      " 8   HousingUnits_2000              2147 non-null   float64\n",
      " 9   Pct_VacantUnits_2000           2132 non-null   float64\n",
      " 10  MEDHHINC_2000                  2147 non-null   float64\n",
      " 11  Pct_Age25Up_College_2000       2147 non-null   float64\n",
      " 12  Pct_RenterUnits_2000           2147 non-null   float64\n",
      " 13  MedianRent_2000                2147 non-null   float64\n",
      " 14  MedianHomeValue_2000           2147 non-null   float64\n",
      " 15  Population_0610                2147 non-null   int64  \n",
      " 16  MedianHouseholdIncome_0610     2105 non-null   float64\n",
      " 17  HousingUnits_0610              2147 non-null   int64  \n",
      " 18  MedianGrossRent_0610           2095 non-null   float64\n",
      " 19  MedianHouseValue_0610          1998 non-null   float64\n",
      " 20  Pct_BachelorOver25_0610        2116 non-null   float64\n",
      " 21  Pct_Renters_0610               2111 non-null   float64\n",
      " 22  Pct_EthnicMinority_0610        2116 non-null   float64\n",
      " 23  Pct_HispanicOrLatino_0610      2116 non-null   float64\n",
      " 24  Pct_BlackNonHispanic_0610      2116 non-null   float64\n",
      " 25  Population_1216                2147 non-null   int64  \n",
      " 26  MedianHsHldIncome_1216         2098 non-null   float64\n",
      " 27  HousingUnits_1216              2147 non-null   int64  \n",
      " 28  MedGrossRentt_1216             2087 non-null   float64\n",
      " 29  MedHseValue_1216               1925 non-null   float64\n",
      " 30  Pct_BachelorOver25_1216        2120 non-null   float64\n",
      " 31  Pct_RenterOccupied_1216        2112 non-null   float64\n",
      " 32  Pct_EthnicMinority_1216        2120 non-null   float64\n",
      " 33  Pct_HispanicOrLatino_1216      2120 non-null   float64\n",
      " 34  Pct_BlackNonHispanic_1216      2120 non-null   float64\n",
      " 35  Pct_VacantHousing_0610         2111 non-null   float64\n",
      " 36  Pct_VacantHousing_1216         2113 non-null   float64\n",
      " 37  PopulationDensity2000          2147 non-null   float64\n",
      " 38  PopulationDensity0610          2147 non-null   float64\n",
      " 39  PopulationDensity1216          2147 non-null   float64\n",
      " 40  RatioHsngUnitsChange1216_0610  2111 non-null   float64\n",
      " 41  RatioHsngUnitsChange0610_2000  2132 non-null   float64\n",
      " 42  Borough_Name                   2147 non-null   object \n",
      " 43  HeatVulIndex                   2147 non-null   int64  \n",
      " 44  pctRentChange                  2085 non-null   float64\n",
      " 45  DOB_Perm90_99                  2129 non-null   float64\n",
      " 46  DOB_Perm2000_07                2129 non-null   float64\n",
      " 47  DOB_Perm_08_15                 2129 non-null   float64\n",
      " 48  DOB_Perm16_21                  2129 non-null   float64\n",
      " 49  DOB_PrmCnt                     2129 non-null   float64\n",
      " 50  SideWalkCafeCount              2147 non-null   int64  \n",
      "dtypes: float64(43), int64(6), object(2)\n",
      "memory usage: 855.6+ KB\n"
     ]
    }
   ],
   "source": [
    "dfSub.info()"
   ]
  },
  {
   "cell_type": "code",
   "execution_count": 163,
   "metadata": {},
   "outputs": [
    {
     "data": {
      "text/plain": [
       "array(['Staten Island', 'Manhattan', 'Bronx', 'Brooklyn', 'Queens'],\n",
       "      dtype=object)"
      ]
     },
     "execution_count": 163,
     "metadata": {},
     "output_type": "execute_result"
    }
   ],
   "source": [
    "dfSub['Borough_Name'].unique()"
   ]
  },
  {
   "cell_type": "code",
   "execution_count": 164,
   "metadata": {},
   "outputs": [],
   "source": [
    "# let's get the Brooklyn rows only\n",
    "dfSub2 =dfSub.loc[dfSub['Borough_Name']=='Brooklyn']"
   ]
  },
  {
   "cell_type": "code",
   "execution_count": 165,
   "metadata": {},
   "outputs": [
    {
     "data": {
      "text/plain": [
       "753"
      ]
     },
     "execution_count": 165,
     "metadata": {},
     "output_type": "execute_result"
    }
   ],
   "source": [
    "len(dfSub2)"
   ]
  },
  {
   "cell_type": "code",
   "execution_count": 166,
   "metadata": {},
   "outputs": [],
   "source": [
    "# these are the columns for facgtor analysis. \n",
    "df_cols_factor = dfSub2[['GISJOIN','MedianHsHldIncome_1216', 'HousingUnits_1216', 'MedGrossRentt_1216',\n",
    "                       'MedHseValue_1216', 'Pct_BachelorOver25_1216', 'Pct_EthnicMinority_1216',\n",
    "                        'RatioHsngUnitsChange1216_0610','RatioHsngUnitsChange0610_2000','pctRentChange', \n",
    "                        'DOB_PrmCnt',  'SideWalkCafeCount'\n",
    "                       ]]"
   ]
  },
  {
   "cell_type": "code",
   "execution_count": 167,
   "metadata": {},
   "outputs": [
    {
     "data": {
      "text/plain": [
       "753"
      ]
     },
     "execution_count": 167,
     "metadata": {},
     "output_type": "execute_result"
    }
   ],
   "source": [
    "len(df_cols_factor)"
   ]
  },
  {
   "cell_type": "code",
   "execution_count": 169,
   "metadata": {},
   "outputs": [],
   "source": [
    "# fill the nan values with the average of columns\n",
    "df_cols_factor = (df_cols_factor.fillna(df_cols_factor.mean())).copy()"
   ]
  },
  {
   "cell_type": "code",
   "execution_count": 170,
   "metadata": {},
   "outputs": [
    {
     "data": {
      "text/html": [
       "<div>\n",
       "<style scoped>\n",
       "    .dataframe tbody tr th:only-of-type {\n",
       "        vertical-align: middle;\n",
       "    }\n",
       "\n",
       "    .dataframe tbody tr th {\n",
       "        vertical-align: top;\n",
       "    }\n",
       "\n",
       "    .dataframe thead th {\n",
       "        text-align: right;\n",
       "    }\n",
       "</style>\n",
       "<table border=\"1\" class=\"dataframe\">\n",
       "  <thead>\n",
       "    <tr style=\"text-align: right;\">\n",
       "      <th></th>\n",
       "      <th>GISJOIN</th>\n",
       "      <th>MedianHsHldIncome_1216</th>\n",
       "      <th>HousingUnits_1216</th>\n",
       "      <th>MedGrossRentt_1216</th>\n",
       "      <th>MedHseValue_1216</th>\n",
       "      <th>Pct_BachelorOver25_1216</th>\n",
       "      <th>Pct_EthnicMinority_1216</th>\n",
       "      <th>RatioHsngUnitsChange1216_0610</th>\n",
       "      <th>RatioHsngUnitsChange0610_2000</th>\n",
       "      <th>pctRentChange</th>\n",
       "      <th>DOB_PrmCnt</th>\n",
       "      <th>SideWalkCafeCount</th>\n",
       "    </tr>\n",
       "  </thead>\n",
       "  <tbody>\n",
       "    <tr>\n",
       "      <th>841</th>\n",
       "      <td>G3600470029700</td>\n",
       "      <td>52594.0</td>\n",
       "      <td>1793</td>\n",
       "      <td>1509.0</td>\n",
       "      <td>894900.0</td>\n",
       "      <td>39.60703</td>\n",
       "      <td>90.56694</td>\n",
       "      <td>1.038818</td>\n",
       "      <td>1.041013</td>\n",
       "      <td>70.768970</td>\n",
       "      <td>218.0</td>\n",
       "      <td>0</td>\n",
       "    </tr>\n",
       "    <tr>\n",
       "      <th>730</th>\n",
       "      <td>G3600470006000</td>\n",
       "      <td>71172.0</td>\n",
       "      <td>1181</td>\n",
       "      <td>1429.0</td>\n",
       "      <td>853700.0</td>\n",
       "      <td>42.21845</td>\n",
       "      <td>37.11137</td>\n",
       "      <td>0.935816</td>\n",
       "      <td>1.070399</td>\n",
       "      <td>45.883314</td>\n",
       "      <td>180.0</td>\n",
       "      <td>6</td>\n",
       "    </tr>\n",
       "  </tbody>\n",
       "</table>\n",
       "</div>"
      ],
      "text/plain": [
       "            GISJOIN  MedianHsHldIncome_1216  HousingUnits_1216  \\\n",
       "841  G3600470029700                 52594.0               1793   \n",
       "730  G3600470006000                 71172.0               1181   \n",
       "\n",
       "     MedGrossRentt_1216  MedHseValue_1216  Pct_BachelorOver25_1216  \\\n",
       "841              1509.0          894900.0                 39.60703   \n",
       "730              1429.0          853700.0                 42.21845   \n",
       "\n",
       "     Pct_EthnicMinority_1216  RatioHsngUnitsChange1216_0610  \\\n",
       "841                 90.56694                       1.038818   \n",
       "730                 37.11137                       0.935816   \n",
       "\n",
       "     RatioHsngUnitsChange0610_2000  pctRentChange  DOB_PrmCnt  \\\n",
       "841                       1.041013      70.768970       218.0   \n",
       "730                       1.070399      45.883314       180.0   \n",
       "\n",
       "     SideWalkCafeCount  \n",
       "841                  0  \n",
       "730                  6  "
      ]
     },
     "execution_count": 170,
     "metadata": {},
     "output_type": "execute_result"
    }
   ],
   "source": [
    "df_cols_factor.sample(2)"
   ]
  },
  {
   "cell_type": "code",
   "execution_count": 171,
   "metadata": {},
   "outputs": [
    {
     "data": {
      "text/plain": [
       "753"
      ]
     },
     "execution_count": 171,
     "metadata": {},
     "output_type": "execute_result"
    }
   ],
   "source": [
    "len(df_cols_factor)"
   ]
  },
  {
   "cell_type": "code",
   "execution_count": 172,
   "metadata": {},
   "outputs": [],
   "source": [
    "# Let's keep the unique id in a column\n",
    "dfGISJOIN = df_cols_factor[['GISJOIN']]"
   ]
  },
  {
   "cell_type": "code",
   "execution_count": 173,
   "metadata": {},
   "outputs": [
    {
     "data": {
      "text/plain": [
       "753"
      ]
     },
     "execution_count": 173,
     "metadata": {},
     "output_type": "execute_result"
    }
   ],
   "source": [
    "len(dfGISJOIN)"
   ]
  },
  {
   "cell_type": "code",
   "execution_count": 174,
   "metadata": {},
   "outputs": [],
   "source": [
    "# then let's drop the unique id from the df for the factor analysis. Since this is not a numeric variable\n",
    "df_cols_factor.drop(['GISJOIN'],axis=1,inplace=True)"
   ]
  },
  {
   "cell_type": "code",
   "execution_count": 175,
   "metadata": {},
   "outputs": [
    {
     "data": {
      "text/plain": [
       "(3594.6064944149007, 0.0)"
      ]
     },
     "execution_count": 175,
     "metadata": {},
     "output_type": "execute_result"
    }
   ],
   "source": [
    "# In this Bartlett ’s test, the p-value is 0. The test was statistically significant,\n",
    "# indicating that the observed correlation matrix is not an identity matrix\n",
    "from factor_analyzer.factor_analyzer import calculate_bartlett_sphericity\n",
    "chi_square_value,p_value=calculate_bartlett_sphericity(df_cols_factor)\n",
    "chi_square_value, p_value"
   ]
  },
  {
   "cell_type": "code",
   "execution_count": 177,
   "metadata": {},
   "outputs": [
    {
     "data": {
      "text/plain": [
       "0.7255319786358482"
      ]
     },
     "execution_count": 177,
     "metadata": {},
     "output_type": "execute_result"
    }
   ],
   "source": [
    "# Kaiser-Meyer-Olkin (KMO) Test measures the suitability of data for factor analysis. \n",
    "#It determines the adequacy for each observed variable and for the complete model. KMO estimates the proportion \n",
    "# of variance among all the observed variable. Lower proportion id more suitable for factor analysis. \n",
    "#KMO values range between 0 and 1. Value of KMO less than 0.6 is considered inadequate.\n",
    "from factor_analyzer.factor_analyzer import calculate_kmo\n",
    "kmo_all,kmo_model=calculate_kmo(df_cols_factor)\n",
    "kmo_model"
   ]
  },
  {
   "cell_type": "code",
   "execution_count": 178,
   "metadata": {},
   "outputs": [],
   "source": [
    "# Let's start the factor analysis with creating a factor object.\n",
    "fa = FactorAnalyzer()\n",
    "# fiting the factor object with the columns (variables)\n",
    "fa.fit(df_cols_factor)\n",
    "# we will get the eigen values and vectors. Eigen values are important for choosing number of factors\n",
    "eigen_values, vectors = fa.get_eigenvalues()"
   ]
  },
  {
   "cell_type": "code",
   "execution_count": 179,
   "metadata": {},
   "outputs": [
    {
     "data": {
      "text/plain": [
       "array([4.07341739, 1.56373653, 1.32080413, 0.92968946, 0.69840162,\n",
       "       0.65538222, 0.57393419, 0.52731406, 0.35187678, 0.19288584,\n",
       "       0.11255778])"
      ]
     },
     "execution_count": 179,
     "metadata": {},
     "output_type": "execute_result"
    }
   ],
   "source": [
    "eigen_values"
   ]
  },
  {
   "cell_type": "code",
   "execution_count": 180,
   "metadata": {},
   "outputs": [
    {
     "data": {
      "image/png": "[encoded data removed]",
      "text/plain": [
       "<Figure size 432x288 with 1 Axes>"
      ]
     },
     "metadata": {
      "needs_background": "light"
     },
     "output_type": "display_data"
    }
   ],
   "source": [
    "# this block plots the eigen values and factors. Numbers greater than one can be consiered for including in the list of factors. \n",
    "# Also pay attention to the plots trend. \n",
    "plt.scatter(range(1,df_cols_factor.shape[1]+1),eigen_values)\n",
    "plt.plot(range(1,df_cols_factor.shape[1]+1),eigen_values)\n",
    "plt.title('Scree Plot')\n",
    "plt.xlabel('Factors')\n",
    "plt.ylabel('Eigenvalue')\n",
    "plt.grid()\n",
    "plt.show()"
   ]
  },
  {
   "cell_type": "code",
   "execution_count": 181,
   "metadata": {},
   "outputs": [],
   "source": [
    "fa = FactorAnalyzer()\n",
    "# now set the number of factors here; also rotation of the vectors.\n",
    "fa.set_params(n_factors=4, rotation='varimax')\n",
    "fa.fit(df_cols_factor)\n",
    "# this will report the value of factors for each variable.\n",
    "loadings = fa.loadings_"
   ]
  },
  {
   "cell_type": "code",
   "execution_count": 182,
   "metadata": {},
   "outputs": [
    {
     "data": {
      "text/plain": [
       "Index(['MedianHsHldIncome_1216', 'HousingUnits_1216', 'MedGrossRentt_1216',\n",
       "       'MedHseValue_1216', 'Pct_BachelorOver25_1216',\n",
       "       'Pct_EthnicMinority_1216', 'RatioHsngUnitsChange1216_0610',\n",
       "       'RatioHsngUnitsChange0610_2000', 'pctRentChange', 'DOB_PrmCnt',\n",
       "       'SideWalkCafeCount'],\n",
       "      dtype='object')"
      ]
     },
     "execution_count": 182,
     "metadata": {},
     "output_type": "execute_result"
    }
   ],
   "source": [
    "df_cols_factor.columns"
   ]
  },
  {
   "cell_type": "code",
   "execution_count": 183,
   "metadata": {},
   "outputs": [],
   "source": [
    "ar_loadings = fa.loadings_"
   ]
  },
  {
   "cell_type": "code",
   "execution_count": 184,
   "metadata": {},
   "outputs": [
    {
     "data": {
      "text/html": [
       "<div>\n",
       "<style scoped>\n",
       "    .dataframe tbody tr th:only-of-type {\n",
       "        vertical-align: middle;\n",
       "    }\n",
       "\n",
       "    .dataframe tbody tr th {\n",
       "        vertical-align: top;\n",
       "    }\n",
       "\n",
       "    .dataframe thead th {\n",
       "        text-align: right;\n",
       "    }\n",
       "</style>\n",
       "<table border=\"1\" class=\"dataframe\">\n",
       "  <thead>\n",
       "    <tr style=\"text-align: right;\">\n",
       "      <th></th>\n",
       "      <th>Factor 1</th>\n",
       "      <th>Factor 2</th>\n",
       "      <th>factor 3</th>\n",
       "      <th>factor 4</th>\n",
       "      <th>selected_factor</th>\n",
       "    </tr>\n",
       "  </thead>\n",
       "  <tbody>\n",
       "    <tr>\n",
       "      <th>MedianHsHldIncome_1216</th>\n",
       "      <td>0.935788</td>\n",
       "      <td>0.248980</td>\n",
       "      <td>0.194340</td>\n",
       "      <td>-0.030650</td>\n",
       "      <td>1</td>\n",
       "    </tr>\n",
       "    <tr>\n",
       "      <th>MedGrossRentt_1216</th>\n",
       "      <td>0.626592</td>\n",
       "      <td>0.359339</td>\n",
       "      <td>0.522050</td>\n",
       "      <td>-0.041476</td>\n",
       "      <td>1</td>\n",
       "    </tr>\n",
       "    <tr>\n",
       "      <th>Pct_BachelorOver25_1216</th>\n",
       "      <td>0.661216</td>\n",
       "      <td>0.543245</td>\n",
       "      <td>0.166697</td>\n",
       "      <td>0.184413</td>\n",
       "      <td>1</td>\n",
       "    </tr>\n",
       "    <tr>\n",
       "      <th>SideWalkCafeCount</th>\n",
       "      <td>0.327283</td>\n",
       "      <td>0.255373</td>\n",
       "      <td>0.238635</td>\n",
       "      <td>0.301386</td>\n",
       "      <td>1</td>\n",
       "    </tr>\n",
       "    <tr>\n",
       "      <th>MedHseValue_1216</th>\n",
       "      <td>0.298756</td>\n",
       "      <td>0.482268</td>\n",
       "      <td>0.111272</td>\n",
       "      <td>0.228756</td>\n",
       "      <td>2</td>\n",
       "    </tr>\n",
       "    <tr>\n",
       "      <th>Pct_EthnicMinority_1216</th>\n",
       "      <td>-0.214802</td>\n",
       "      <td>-0.794579</td>\n",
       "      <td>0.058795</td>\n",
       "      <td>0.024911</td>\n",
       "      <td>3</td>\n",
       "    </tr>\n",
       "    <tr>\n",
       "      <th>RatioHsngUnitsChange1216_0610</th>\n",
       "      <td>0.097063</td>\n",
       "      <td>0.007976</td>\n",
       "      <td>0.227560</td>\n",
       "      <td>0.000157</td>\n",
       "      <td>3</td>\n",
       "    </tr>\n",
       "    <tr>\n",
       "      <th>RatioHsngUnitsChange0610_2000</th>\n",
       "      <td>0.037610</td>\n",
       "      <td>-0.067130</td>\n",
       "      <td>0.442769</td>\n",
       "      <td>0.148788</td>\n",
       "      <td>3</td>\n",
       "    </tr>\n",
       "    <tr>\n",
       "      <th>pctRentChange</th>\n",
       "      <td>0.120656</td>\n",
       "      <td>0.182860</td>\n",
       "      <td>0.860260</td>\n",
       "      <td>0.085898</td>\n",
       "      <td>3</td>\n",
       "    </tr>\n",
       "    <tr>\n",
       "      <th>HousingUnits_1216</th>\n",
       "      <td>-0.066044</td>\n",
       "      <td>-0.048447</td>\n",
       "      <td>-0.000304</td>\n",
       "      <td>0.712518</td>\n",
       "      <td>4</td>\n",
       "    </tr>\n",
       "    <tr>\n",
       "      <th>DOB_PrmCnt</th>\n",
       "      <td>0.170373</td>\n",
       "      <td>0.273953</td>\n",
       "      <td>0.271258</td>\n",
       "      <td>0.716361</td>\n",
       "      <td>4</td>\n",
       "    </tr>\n",
       "  </tbody>\n",
       "</table>\n",
       "</div>"
      ],
      "text/plain": [
       "                               Factor 1  Factor 2  factor 3  factor 4  \\\n",
       "MedianHsHldIncome_1216         0.935788  0.248980  0.194340 -0.030650   \n",
       "MedGrossRentt_1216             0.626592  0.359339  0.522050 -0.041476   \n",
       "Pct_BachelorOver25_1216        0.661216  0.543245  0.166697  0.184413   \n",
       "SideWalkCafeCount              0.327283  0.255373  0.238635  0.301386   \n",
       "MedHseValue_1216               0.298756  0.482268  0.111272  0.228756   \n",
       "Pct_EthnicMinority_1216       -0.214802 -0.794579  0.058795  0.024911   \n",
       "RatioHsngUnitsChange1216_0610  0.097063  0.007976  0.227560  0.000157   \n",
       "RatioHsngUnitsChange0610_2000  0.037610 -0.067130  0.442769  0.148788   \n",
       "pctRentChange                  0.120656  0.182860  0.860260  0.085898   \n",
       "HousingUnits_1216             -0.066044 -0.048447 -0.000304  0.712518   \n",
       "DOB_PrmCnt                     0.170373  0.273953  0.271258  0.716361   \n",
       "\n",
       "                               selected_factor  \n",
       "MedianHsHldIncome_1216                       1  \n",
       "MedGrossRentt_1216                           1  \n",
       "Pct_BachelorOver25_1216                      1  \n",
       "SideWalkCafeCount                            1  \n",
       "MedHseValue_1216                             2  \n",
       "Pct_EthnicMinority_1216                      3  \n",
       "RatioHsngUnitsChange1216_0610                3  \n",
       "RatioHsngUnitsChange0610_2000                3  \n",
       "pctRentChange                                3  \n",
       "HousingUnits_1216                            4  \n",
       "DOB_PrmCnt                                   4  "
      ]
     },
     "execution_count": 184,
     "metadata": {},
     "output_type": "execute_result"
    }
   ],
   "source": [
    "# let's see how factors can be associated to variables \n",
    "loadings = pd.DataFrame(fa.loadings_, columns=['Factor 1', 'Factor 2','factor 3','factor 4'], index=df_cols_factor.columns)\n",
    "loadings['selected_factor']=(np.array(ar_loadings).argmax(axis=1))+1\n",
    "loadings.sort_values('selected_factor')\n",
    "# loadings"
   ]
  },
  {
   "cell_type": "code",
   "execution_count": 185,
   "metadata": {},
   "outputs": [
    {
     "data": {
      "text/plain": [
       "(array([2.00681455, 1.53078792, 1.47233306, 1.23082245]),\n",
       " array([0.18243769, 0.13916254, 0.13384846, 0.11189295]),\n",
       " array([0.18243769, 0.32160022, 0.45544868, 0.56734163]))"
      ]
     },
     "execution_count": 185,
     "metadata": {},
     "output_type": "execute_result"
    }
   ],
   "source": [
    "fa.get_factor_variance()"
   ]
  },
  {
   "cell_type": "code",
   "execution_count": 37,
   "metadata": {},
   "outputs": [
    {
     "data": {
      "text/plain": [
       "array([0.74658008, 0.3962945 , 0.75077507, 0.32626818, 0.76324525,\n",
       "       0.27441365, 0.02926783, 0.0846137 , 0.28017734, 0.76469605,\n",
       "       0.32587781])"
      ]
     },
     "execution_count": 37,
     "metadata": {},
     "output_type": "execute_result"
    }
   ],
   "source": [
    "fa.get_communalities()"
   ]
  },
  {
   "cell_type": "code",
   "execution_count": 186,
   "metadata": {},
   "outputs": [
    {
     "data": {
      "text/plain": [
       "array([[ 0.16219757,  0.1160141 , -0.40733113,  1.95592637],\n",
       "       [-0.36229684,  0.48415645,  0.15991225,  0.86266114],\n",
       "       [ 0.18496316, -0.11173815,  0.41475226,  0.39504409],\n",
       "       ...,\n",
       "       [ 1.91238395,  0.38146209, -0.98861028, -0.85360024],\n",
       "       [-0.61811161,  2.91869519, -0.75123225, -1.04362947],\n",
       "       [-0.39361853,  1.38293098, -0.25710995, -1.25172056]])"
      ]
     },
     "execution_count": 186,
     "metadata": {},
     "output_type": "execute_result"
    }
   ],
   "source": [
    "## you can get the values of each row for each factor using transforming them\n",
    "#fa.transform(df_cols_factor)"
   ]
  },
  {
   "cell_type": "code",
   "execution_count": 187,
   "metadata": {},
   "outputs": [],
   "source": [
    "# convert the factors to a dataframe\n",
    "outputTable = pd.DataFrame(fa.transform(df_cols_factor),columns=['factor_1','factor_2','factor 3','factor 4'])"
   ]
  },
  {
   "cell_type": "code",
   "execution_count": 188,
   "metadata": {},
   "outputs": [
    {
     "data": {
      "text/html": [
       "<div>\n",
       "<style scoped>\n",
       "    .dataframe tbody tr th:only-of-type {\n",
       "        vertical-align: middle;\n",
       "    }\n",
       "\n",
       "    .dataframe tbody tr th {\n",
       "        vertical-align: top;\n",
       "    }\n",
       "\n",
       "    .dataframe thead th {\n",
       "        text-align: right;\n",
       "    }\n",
       "</style>\n",
       "<table border=\"1\" class=\"dataframe\">\n",
       "  <thead>\n",
       "    <tr style=\"text-align: right;\">\n",
       "      <th></th>\n",
       "      <th>factor_1</th>\n",
       "      <th>factor_2</th>\n",
       "      <th>factor 3</th>\n",
       "      <th>factor 4</th>\n",
       "    </tr>\n",
       "  </thead>\n",
       "  <tbody>\n",
       "    <tr>\n",
       "      <th>223</th>\n",
       "      <td>-1.062428</td>\n",
       "      <td>0.957456</td>\n",
       "      <td>0.507184</td>\n",
       "      <td>0.582415</td>\n",
       "    </tr>\n",
       "    <tr>\n",
       "      <th>325</th>\n",
       "      <td>2.567845</td>\n",
       "      <td>-0.170989</td>\n",
       "      <td>-1.791744</td>\n",
       "      <td>-1.128619</td>\n",
       "    </tr>\n",
       "    <tr>\n",
       "      <th>306</th>\n",
       "      <td>-0.869114</td>\n",
       "      <td>-0.309183</td>\n",
       "      <td>0.473268</td>\n",
       "      <td>0.547935</td>\n",
       "    </tr>\n",
       "  </tbody>\n",
       "</table>\n",
       "</div>"
      ],
      "text/plain": [
       "     factor_1  factor_2  factor 3  factor 4\n",
       "223 -1.062428  0.957456  0.507184  0.582415\n",
       "325  2.567845 -0.170989 -1.791744 -1.128619\n",
       "306 -0.869114 -0.309183  0.473268  0.547935"
      ]
     },
     "execution_count": 188,
     "metadata": {},
     "output_type": "execute_result"
    }
   ],
   "source": [
    "outputTable.sample(3)"
   ]
  },
  {
   "cell_type": "code",
   "execution_count": 189,
   "metadata": {},
   "outputs": [],
   "source": [
    "# let's add the unique id field. This will help to map the values\n",
    "outputTable['GISJOIN']=dfGISJOIN['GISJOIN'].values"
   ]
  },
  {
   "cell_type": "code",
   "execution_count": 202,
   "metadata": {},
   "outputs": [
    {
     "data": {
      "text/html": [
       "<div>\n",
       "<style scoped>\n",
       "    .dataframe tbody tr th:only-of-type {\n",
       "        vertical-align: middle;\n",
       "    }\n",
       "\n",
       "    .dataframe tbody tr th {\n",
       "        vertical-align: top;\n",
       "    }\n",
       "\n",
       "    .dataframe thead th {\n",
       "        text-align: right;\n",
       "    }\n",
       "</style>\n",
       "<table border=\"1\" class=\"dataframe\">\n",
       "  <thead>\n",
       "    <tr style=\"text-align: right;\">\n",
       "      <th></th>\n",
       "      <th>factor_1</th>\n",
       "      <th>factor_2</th>\n",
       "      <th>factor 3</th>\n",
       "      <th>factor 4</th>\n",
       "      <th>GISJOIN</th>\n",
       "      <th>cluster</th>\n",
       "    </tr>\n",
       "  </thead>\n",
       "  <tbody>\n",
       "    <tr>\n",
       "      <th>357</th>\n",
       "      <td>-0.039533</td>\n",
       "      <td>-0.383719</td>\n",
       "      <td>0.894961</td>\n",
       "      <td>-0.333326</td>\n",
       "      <td>G3600470008000</td>\n",
       "      <td>0</td>\n",
       "    </tr>\n",
       "    <tr>\n",
       "      <th>587</th>\n",
       "      <td>-0.514208</td>\n",
       "      <td>1.347448</td>\n",
       "      <td>-0.272910</td>\n",
       "      <td>-0.618962</td>\n",
       "      <td>G3600470047400</td>\n",
       "      <td>1</td>\n",
       "    </tr>\n",
       "  </tbody>\n",
       "</table>\n",
       "</div>"
      ],
      "text/plain": [
       "     factor_1  factor_2  factor 3  factor 4         GISJOIN  cluster\n",
       "357 -0.039533 -0.383719  0.894961 -0.333326  G3600470008000        0\n",
       "587 -0.514208  1.347448 -0.272910 -0.618962  G3600470047400        1"
      ]
     },
     "execution_count": 202,
     "metadata": {},
     "output_type": "execute_result"
    }
   ],
   "source": [
    "outputTable.sample(2)"
   ]
  },
  {
   "cell_type": "code",
   "execution_count": 203,
   "metadata": {},
   "outputs": [],
   "source": [
    "# now you can save the results in a table.\n",
    "outputTable.to_csv(r\"C:\\MyFiles\\Dropbox\\Teaching\\Advanced_GIS_for_Environmental_Planning\\Data\\NYC\\CensusTracts\\Census_Tracts_with_Data_two_factor_brooklyn3.csv\")"
   ]
  },
  {
   "cell_type": "code",
   "execution_count": null,
   "metadata": {},
   "outputs": [],
   "source": []
  },
  {
   "cell_type": "code",
   "execution_count": null,
   "metadata": {},
   "outputs": [],
   "source": []
  },
  {
   "cell_type": "code",
   "execution_count": null,
   "metadata": {},
   "outputs": [],
   "source": []
  },
  {
   "cell_type": "code",
   "execution_count": 192,
   "metadata": {},
   "outputs": [],
   "source": [
    "X=outputTable[['factor_1','factor_2','factor 3','factor 4']]"
   ]
  },
  {
   "cell_type": "code",
   "execution_count": 194,
   "metadata": {},
   "outputs": [
    {
     "data": {
      "text/plain": [
       "<seaborn.axisgrid.FacetGrid at 0x18bd216b548>"
      ]
     },
     "execution_count": 194,
     "metadata": {},
     "output_type": "execute_result"
    },
    {
     "data": {
      "image/png": "[encoded data removed]",
      "text/plain": [
       "<Figure size 360x360 with 1 Axes>"
      ]
     },
     "metadata": {
      "needs_background": "light"
     },
     "output_type": "display_data"
    }
   ],
   "source": [
    "sns.displot(data=outputTable,x ='factor_1',y ='factor 3',alpha=0.9)"
   ]
  },
  {
   "cell_type": "code",
   "execution_count": 195,
   "metadata": {},
   "outputs": [
    {
     "data": {
      "text/plain": [
       "KMeans(n_clusters=3)"
      ]
     },
     "execution_count": 195,
     "metadata": {},
     "output_type": "execute_result"
    }
   ],
   "source": [
    "k_means = cluster.KMeans(n_clusters=3)\n",
    "k_means.fit(X)"
   ]
  },
  {
   "cell_type": "code",
   "execution_count": 196,
   "metadata": {},
   "outputs": [],
   "source": [
    "outputTable['cluster'] = k_means.labels_"
   ]
  },
  {
   "cell_type": "code",
   "execution_count": 197,
   "metadata": {},
   "outputs": [
    {
     "data": {
      "text/plain": [
       "753"
      ]
     },
     "execution_count": 197,
     "metadata": {},
     "output_type": "execute_result"
    }
   ],
   "source": [
    "len(k_means.labels_)"
   ]
  },
  {
   "cell_type": "code",
   "execution_count": 198,
   "metadata": {},
   "outputs": [
    {
     "data": {
      "text/html": [
       "<div>\n",
       "<style scoped>\n",
       "    .dataframe tbody tr th:only-of-type {\n",
       "        vertical-align: middle;\n",
       "    }\n",
       "\n",
       "    .dataframe tbody tr th {\n",
       "        vertical-align: top;\n",
       "    }\n",
       "\n",
       "    .dataframe thead th {\n",
       "        text-align: right;\n",
       "    }\n",
       "</style>\n",
       "<table border=\"1\" class=\"dataframe\">\n",
       "  <thead>\n",
       "    <tr style=\"text-align: right;\">\n",
       "      <th></th>\n",
       "      <th>factor_1</th>\n",
       "      <th>factor_2</th>\n",
       "      <th>factor 3</th>\n",
       "      <th>factor 4</th>\n",
       "      <th>GISJOIN</th>\n",
       "      <th>cluster</th>\n",
       "    </tr>\n",
       "  </thead>\n",
       "  <tbody>\n",
       "    <tr>\n",
       "      <th>0</th>\n",
       "      <td>0.162198</td>\n",
       "      <td>0.116014</td>\n",
       "      <td>-0.407331</td>\n",
       "      <td>1.955926</td>\n",
       "      <td>G3600470031500</td>\n",
       "      <td>0</td>\n",
       "    </tr>\n",
       "    <tr>\n",
       "      <th>1</th>\n",
       "      <td>-0.362297</td>\n",
       "      <td>0.484156</td>\n",
       "      <td>0.159912</td>\n",
       "      <td>0.862661</td>\n",
       "      <td>G3600470031701</td>\n",
       "      <td>1</td>\n",
       "    </tr>\n",
       "    <tr>\n",
       "      <th>2</th>\n",
       "      <td>0.184963</td>\n",
       "      <td>-0.111738</td>\n",
       "      <td>0.414752</td>\n",
       "      <td>0.395044</td>\n",
       "      <td>G3600470031702</td>\n",
       "      <td>0</td>\n",
       "    </tr>\n",
       "    <tr>\n",
       "      <th>3</th>\n",
       "      <td>-0.247721</td>\n",
       "      <td>-0.014986</td>\n",
       "      <td>-0.457322</td>\n",
       "      <td>0.016021</td>\n",
       "      <td>G3600470031900</td>\n",
       "      <td>1</td>\n",
       "    </tr>\n",
       "    <tr>\n",
       "      <th>4</th>\n",
       "      <td>-0.493576</td>\n",
       "      <td>-0.388551</td>\n",
       "      <td>0.217928</td>\n",
       "      <td>0.688370</td>\n",
       "      <td>G3600470032100</td>\n",
       "      <td>0</td>\n",
       "    </tr>\n",
       "    <tr>\n",
       "      <th>...</th>\n",
       "      <td>...</td>\n",
       "      <td>...</td>\n",
       "      <td>...</td>\n",
       "      <td>...</td>\n",
       "      <td>...</td>\n",
       "      <td>...</td>\n",
       "    </tr>\n",
       "    <tr>\n",
       "      <th>748</th>\n",
       "      <td>0.426638</td>\n",
       "      <td>-0.999399</td>\n",
       "      <td>-0.585179</td>\n",
       "      <td>-0.353834</td>\n",
       "      <td>G3600470074000</td>\n",
       "      <td>0</td>\n",
       "    </tr>\n",
       "    <tr>\n",
       "      <th>749</th>\n",
       "      <td>1.137883</td>\n",
       "      <td>-0.586831</td>\n",
       "      <td>-0.885342</td>\n",
       "      <td>-0.771919</td>\n",
       "      <td>G3600470074200</td>\n",
       "      <td>0</td>\n",
       "    </tr>\n",
       "    <tr>\n",
       "      <th>750</th>\n",
       "      <td>1.912384</td>\n",
       "      <td>0.381462</td>\n",
       "      <td>-0.988610</td>\n",
       "      <td>-0.853600</td>\n",
       "      <td>G3600470074400</td>\n",
       "      <td>1</td>\n",
       "    </tr>\n",
       "    <tr>\n",
       "      <th>751</th>\n",
       "      <td>-0.618112</td>\n",
       "      <td>2.918695</td>\n",
       "      <td>-0.751232</td>\n",
       "      <td>-1.043629</td>\n",
       "      <td>G3600810091800</td>\n",
       "      <td>1</td>\n",
       "    </tr>\n",
       "    <tr>\n",
       "      <th>752</th>\n",
       "      <td>-0.393619</td>\n",
       "      <td>1.382931</td>\n",
       "      <td>-0.257110</td>\n",
       "      <td>-1.251721</td>\n",
       "      <td>G3600470070202</td>\n",
       "      <td>1</td>\n",
       "    </tr>\n",
       "  </tbody>\n",
       "</table>\n",
       "<p>753 rows × 6 columns</p>\n",
       "</div>"
      ],
      "text/plain": [
       "     factor_1  factor_2  factor 3  factor 4         GISJOIN  cluster\n",
       "0    0.162198  0.116014 -0.407331  1.955926  G3600470031500        0\n",
       "1   -0.362297  0.484156  0.159912  0.862661  G3600470031701        1\n",
       "2    0.184963 -0.111738  0.414752  0.395044  G3600470031702        0\n",
       "3   -0.247721 -0.014986 -0.457322  0.016021  G3600470031900        1\n",
       "4   -0.493576 -0.388551  0.217928  0.688370  G3600470032100        0\n",
       "..        ...       ...       ...       ...             ...      ...\n",
       "748  0.426638 -0.999399 -0.585179 -0.353834  G3600470074000        0\n",
       "749  1.137883 -0.586831 -0.885342 -0.771919  G3600470074200        0\n",
       "750  1.912384  0.381462 -0.988610 -0.853600  G3600470074400        1\n",
       "751 -0.618112  2.918695 -0.751232 -1.043629  G3600810091800        1\n",
       "752 -0.393619  1.382931 -0.257110 -1.251721  G3600470070202        1\n",
       "\n",
       "[753 rows x 6 columns]"
      ]
     },
     "execution_count": 198,
     "metadata": {},
     "output_type": "execute_result"
    }
   ],
   "source": [
    "outputTable"
   ]
  },
  {
   "cell_type": "code",
   "execution_count": 137,
   "metadata": {},
   "outputs": [
    {
     "data": {
      "text/plain": [
       "<seaborn.axisgrid.FacetGrid at 0x18bd2ec6448>"
      ]
     },
     "execution_count": 137,
     "metadata": {},
     "output_type": "execute_result"
    },
    {
     "data": {
      "image/png": "[encoded data removed]",
      "text/plain": [
       "<Figure size 402.375x360 with 1 Axes>"
      ]
     },
     "metadata": {
      "needs_background": "light"
     },
     "output_type": "display_data"
    }
   ],
   "source": [
    "sns.displot(data=outputTable,x ='factor_1',y ='factor_2',hue='cluster',alpha=0.9)"
   ]
  },
  {
   "cell_type": "code",
   "execution_count": 201,
   "metadata": {},
   "outputs": [
    {
     "data": {
      "text/plain": [
       "<seaborn.axisgrid.JointGrid at 0x18bd343a288>"
      ]
     },
     "execution_count": 201,
     "metadata": {},
     "output_type": "execute_result"
    },
    {
     "data": {
      "image/png": "[encoded data removed]",
      "text/plain": [
       "<Figure size 432x432 with 3 Axes>"
      ]
     },
     "metadata": {
      "needs_background": "light"
     },
     "output_type": "display_data"
    }
   ],
   "source": [
    "sns.jointplot(data=outputTable,x ='factor_1',y ='factor 4',hue='cluster',alpha=0.9,palette=sns.color_palette(\"hls\", 3))"
   ]
  },
  {
   "cell_type": "code",
   "execution_count": 146,
   "metadata": {},
   "outputs": [],
   "source": [
    "from sklearn.cluster import SpectralClustering\n",
    "model = SpectralClustering(n_clusters=3, affinity='nearest_neighbors',\n",
    "                           assign_labels='kmeans')\n",
    "labels = model.fit_predict(X)\n"
   ]
  },
  {
   "cell_type": "code",
   "execution_count": 147,
   "metadata": {},
   "outputs": [],
   "source": [
    "outputTable['cluster_new']=labels"
   ]
  },
  {
   "cell_type": "code",
   "execution_count": 149,
   "metadata": {},
   "outputs": [
    {
     "data": {
      "text/plain": [
       "<seaborn.axisgrid.JointGrid at 0x18bd4963f88>"
      ]
     },
     "execution_count": 149,
     "metadata": {},
     "output_type": "execute_result"
    },
    {
     "data": {
      "image/png": "[encoded data removed]",
      "text/plain": [
       "<Figure size 432x432 with 3 Axes>"
      ]
     },
     "metadata": {
      "needs_background": "light"
     },
     "output_type": "display_data"
    }
   ],
   "source": [
    "sns.jointplot(data=outputTable,x ='factor_1',y ='factor_2',hue='cluster_new',alpha=0.9,palette=sns.color_palette(\"hls\", 3))"
   ]
  },
  {
   "cell_type": "code",
   "execution_count": 151,
   "metadata": {},
   "outputs": [],
   "source": [
    "outputTable.to_csv(r\"C:\\MyFiles\\Dropbox\\Teaching\\Advanced_GIS_for_Environmental_Planning\\Data\\NYC\\CensusTracts\\Census_Tracts_with_Data_two_factor_brooklyn3_withClusters3.csv\")"
   ]
  },
  {
   "cell_type": "code",
   "execution_count": null,
   "metadata": {},
   "outputs": [],
   "source": []
  }
 ],
 "metadata": {
  "kernelspec": {
   "display_name": "Python 3",
   "language": "python",
   "name": "python3"
  },
  "language_info": {
   "codemirror_mode": {
    "name": "ipython",
    "version": 3
   },
   "file_extension": ".py",
   "mimetype": "text/x-python",
   "name": "python",
   "nbconvert_exporter": "python",
   "pygments_lexer": "ipython3",
   "version": "3.7.7"
  }
 },
 "nbformat": 4,
 "nbformat_minor": 4
}
