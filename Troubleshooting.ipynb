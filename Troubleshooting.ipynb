{
 "cells": [
  {
   "cell_type": "code",
   "execution_count": 1,
   "metadata": {},
   "outputs": [],
   "source": [
    "# import packages\n",
    "import pandas as pd\n",
    "import seaborn as sns\n",
    "import numpy as np"
   ]
  },
  {
   "cell_type": "code",
   "execution_count": 2,
   "metadata": {},
   "outputs": [],
   "source": [
    "fileAddress = r\"D:\\Dropbox\\Dropbox\\Teaching\\Urban_Data_Analsysis\\Fall2021\\Data\\Census_Tracts.csv\""
   ]
  },
  {
   "cell_type": "code",
   "execution_count": 3,
   "metadata": {},
   "outputs": [],
   "source": [
    "df = pd.read_csv(fileAddress)"
   ]
  },
  {
   "cell_type": "code",
   "execution_count": 4,
   "metadata": {},
   "outputs": [
    {
     "data": {
      "text/html": [
       "<div>\n",
       "<style scoped>\n",
       "    .dataframe tbody tr th:only-of-type {\n",
       "        vertical-align: middle;\n",
       "    }\n",
       "\n",
       "    .dataframe tbody tr th {\n",
       "        vertical-align: top;\n",
       "    }\n",
       "\n",
       "    .dataframe thead th {\n",
       "        text-align: right;\n",
       "    }\n",
       "</style>\n",
       "<table border=\"1\" class=\"dataframe\">\n",
       "  <thead>\n",
       "    <tr style=\"text-align: right;\">\n",
       "      <th></th>\n",
       "      <th>GISJOIN</th>\n",
       "      <th>Population2000</th>\n",
       "      <th>NH_White_2000</th>\n",
       "      <th>NH_Black_2000</th>\n",
       "      <th>Asian_2000</th>\n",
       "      <th>Hispanic_2000</th>\n",
       "      <th>Other_2000</th>\n",
       "      <th>Pct_NH_White_2000</th>\n",
       "      <th>Pct_NH_Black_2000</th>\n",
       "      <th>Pct_NH_Asian_2000</th>\n",
       "      <th>...</th>\n",
       "      <th>Pct_VacantHousing_1216</th>\n",
       "      <th>PCT_HsngUnitsOver30Year_1216</th>\n",
       "      <th>Pct_HsngUnitsOver30Year_0610</th>\n",
       "      <th>Pct_HsngUnitsMultiUnit_1216</th>\n",
       "      <th>Pct_HsngUnitsMultiUnit_0610</th>\n",
       "      <th>PopulationDensity2000</th>\n",
       "      <th>PopulationDensity0610</th>\n",
       "      <th>PopulationDensity1216</th>\n",
       "      <th>Borough_Name</th>\n",
       "      <th>HeatVulIndex</th>\n",
       "    </tr>\n",
       "  </thead>\n",
       "  <tbody>\n",
       "    <tr>\n",
       "      <th>993</th>\n",
       "      <td>G3600470013500</td>\n",
       "      <td>2830</td>\n",
       "      <td>1608.0</td>\n",
       "      <td>334.0</td>\n",
       "      <td>122.0</td>\n",
       "      <td>725.0</td>\n",
       "      <td>41.0</td>\n",
       "      <td>56.819788</td>\n",
       "      <td>11.80212</td>\n",
       "      <td>4.310954</td>\n",
       "      <td>...</td>\n",
       "      <td>6.707692</td>\n",
       "      <td>78.15385</td>\n",
       "      <td>84.84092</td>\n",
       "      <td>88.24615</td>\n",
       "      <td>92.82595</td>\n",
       "      <td>75.412337</td>\n",
       "      <td>92.360128</td>\n",
       "      <td>95.771004</td>\n",
       "      <td>Brooklyn</td>\n",
       "      <td>2</td>\n",
       "    </tr>\n",
       "    <tr>\n",
       "      <th>1800</th>\n",
       "      <td>G3600810097202</td>\n",
       "      <td>3270</td>\n",
       "      <td>22.0</td>\n",
       "      <td>2710.0</td>\n",
       "      <td>6.0</td>\n",
       "      <td>505.0</td>\n",
       "      <td>27.0</td>\n",
       "      <td>0.672783</td>\n",
       "      <td>82.874618</td>\n",
       "      <td>0.183486</td>\n",
       "      <td>...</td>\n",
       "      <td>14.7737</td>\n",
       "      <td>86.16567</td>\n",
       "      <td>81.42982</td>\n",
       "      <td>99.57301</td>\n",
       "      <td>99.12816</td>\n",
       "      <td>25.370073</td>\n",
       "      <td>19.791760</td>\n",
       "      <td>22.390835</td>\n",
       "      <td>Queens</td>\n",
       "      <td>3</td>\n",
       "    </tr>\n",
       "  </tbody>\n",
       "</table>\n",
       "<p>2 rows × 99 columns</p>\n",
       "</div>"
      ],
      "text/plain": [
       "             GISJOIN  Population2000  NH_White_2000  NH_Black_2000  \\\n",
       "993   G3600470013500            2830         1608.0          334.0   \n",
       "1800  G3600810097202            3270           22.0         2710.0   \n",
       "\n",
       "      Asian_2000  Hispanic_2000  Other_2000 Pct_NH_White_2000  \\\n",
       "993        122.0          725.0        41.0         56.819788   \n",
       "1800         6.0          505.0        27.0          0.672783   \n",
       "\n",
       "     Pct_NH_Black_2000 Pct_NH_Asian_2000  ... Pct_VacantHousing_1216  \\\n",
       "993           11.80212          4.310954  ...               6.707692   \n",
       "1800         82.874618          0.183486  ...                14.7737   \n",
       "\n",
       "     PCT_HsngUnitsOver30Year_1216 Pct_HsngUnitsOver30Year_0610  \\\n",
       "993                      78.15385                     84.84092   \n",
       "1800                     86.16567                     81.42982   \n",
       "\n",
       "      Pct_HsngUnitsMultiUnit_1216  Pct_HsngUnitsMultiUnit_0610  \\\n",
       "993                      88.24615                     92.82595   \n",
       "1800                     99.57301                     99.12816   \n",
       "\n",
       "     PopulationDensity2000  PopulationDensity0610  PopulationDensity1216  \\\n",
       "993              75.412337              92.360128              95.771004   \n",
       "1800             25.370073              19.791760              22.390835   \n",
       "\n",
       "      Borough_Name  HeatVulIndex  \n",
       "993       Brooklyn             2  \n",
       "1800        Queens             3  \n",
       "\n",
       "[2 rows x 99 columns]"
      ]
     },
     "execution_count": 4,
     "metadata": {},
     "output_type": "execute_result"
    }
   ],
   "source": [
    "df.sample(2)"
   ]
  },
  {
   "cell_type": "code",
   "execution_count": 5,
   "metadata": {},
   "outputs": [
    {
     "name": "stdout",
     "output_type": "stream",
     "text": [
      "<class 'pandas.core.frame.DataFrame'>\n",
      "RangeIndex: 2147 entries, 0 to 2146\n",
      "Data columns (total 99 columns):\n",
      " #   Column                            Non-Null Count  Dtype  \n",
      "---  ------                            --------------  -----  \n",
      " 0   GISJOIN                           2147 non-null   object \n",
      " 1   Population2000                    2147 non-null   int64  \n",
      " 2   NH_White_2000                     2147 non-null   float64\n",
      " 3   NH_Black_2000                     2147 non-null   float64\n",
      " 4   Asian_2000                        2147 non-null   float64\n",
      " 5   Hispanic_2000                     2147 non-null   float64\n",
      " 6   Other_2000                        2147 non-null   float64\n",
      " 7   Pct_NH_White_2000                 2147 non-null   object \n",
      " 8   Pct_NH_Black_2000                 2147 non-null   object \n",
      " 9   Pct_NH_Asian_2000                 2147 non-null   object \n",
      " 10  Pct_Hispanic_2000                 2147 non-null   object \n",
      " 11  Pct_Other_2000                    2147 non-null   object \n",
      " 12  Pct_EthMinority_2000              2147 non-null   object \n",
      " 13  HousingUnits_2000                 2147 non-null   float64\n",
      " 14  VacantUnits_2000                  2147 non-null   int64  \n",
      " 15  Pct_VacantUnits_2000              2147 non-null   object \n",
      " 16  OccupiedUnits_2000                2147 non-null   float64\n",
      " 17  MEDHHINC_2000                     2147 non-null   float64\n",
      " 18  Age_25_Up_2000                    2147 non-null   float64\n",
      " 19  Age_25_Up_College_2000            2147 non-null   float64\n",
      " 20  Pct_Age25Up_College_2000          2147 non-null   float64\n",
      " 21  OwnerOcc_Units_2000               2147 non-null   float64\n",
      " 22  RenterOcc_Units_2000              2147 non-null   float64\n",
      " 23  Pct_RenterUnits_2000              2147 non-null   float64\n",
      " 24  MedianRent_2000                   2147 non-null   float64\n",
      " 25  MedianHomeValue_2000              2147 non-null   float64\n",
      " 26  Acres                             2147 non-null   float64\n",
      " 27  Pop_Dens_2000                     2147 non-null   float64\n",
      " 28  Pct_MultifamHUnits_2000           2147 non-null   object \n",
      " 29  Pct_HUnits_30yrsOlder_2000        2147 non-null   object \n",
      " 30  emp_gravity                       2147 non-null   object \n",
      " 31  YEAR                              2147 non-null   object \n",
      " 32  Population_0610                   2147 non-null   int64  \n",
      " 33  NonHispanicWhiteAlone_0610        2147 non-null   int64  \n",
      " 34  NonHispanicBlackAlone_0610        2147 non-null   int64  \n",
      " 35  NonHispanicAsianAlone_0610        2147 non-null   int64  \n",
      " 36  Hispanic_or_Latino_0610           2147 non-null   int64  \n",
      " 37  TotalWorkersOver16_0610           2147 non-null   int64  \n",
      " 38  TotalOver25_0610                  2147 non-null   int64  \n",
      " 39  MedianHouseholdIncome_0610        2147 non-null   object \n",
      " 40  HousingUnits_0610                 2147 non-null   int64  \n",
      " 41  TotalOccupied_0610                2147 non-null   int64  \n",
      " 42  OwnerOccupied_0610                2147 non-null   int64  \n",
      " 43  RenterOccupied_0610               2147 non-null   int64  \n",
      " 44  MedianGrossRent_0610              2147 non-null   object \n",
      " 45  MedianHouseValue_0610             2147 non-null   object \n",
      " 46  Pct_BachelorOver25_0610           2147 non-null   object \n",
      " 47  AllPublicTransit_0610             2147 non-null   int64  \n",
      " 48  EthnicMinority_0610               2147 non-null   int64  \n",
      " 49  Pct_Renters_0610                  2147 non-null   object \n",
      " 50  Pct_publicTransit_0610            2147 non-null   object \n",
      " 51  Pct_EthnicMinority_0610           2147 non-null   object \n",
      " 52  NullField_0610                    2147 non-null   object \n",
      " 53  Number_of_Hispanic_0610           2147 non-null   int64  \n",
      " 54  Pct_HispanicOrLatino_0610         2147 non-null   object \n",
      " 55  Pct_BlackNonHispanic_0610         2147 non-null   object \n",
      " 56  NumberOfOtherEthnics_0610         2147 non-null   int64  \n",
      " 57  GISJOIN_12                        2147 non-null   object \n",
      " 58  Population_1216                   2147 non-null   int64  \n",
      " 59  Race_White_Alone_1216             2147 non-null   int64  \n",
      " 60  Race_Black_Alone_1216             2147 non-null   int64  \n",
      " 61  NonHispanicWhiteAlone_1216        2147 non-null   int64  \n",
      " 62  NonHispanicBlackAlone_1216        2147 non-null   int64  \n",
      " 63  NonHispanicAsianAlone_1216        2147 non-null   int64  \n",
      " 64  HispanicOrLatino_1216             2147 non-null   int64  \n",
      " 65  TotalAbove25Years_1216            2147 non-null   int64  \n",
      " 66  MedianHsHldIncome_1216            2147 non-null   object \n",
      " 67  HousingUnits_1216                 2147 non-null   int64  \n",
      " 68  TotOccup_1216                     2147 non-null   int64  \n",
      " 69  OwnOccup_1216                     2147 non-null   int64  \n",
      " 70  RenterOcc_1216                    2147 non-null   int64  \n",
      " 71  MedGrossRentt_1216                2147 non-null   object \n",
      " 72  MedHseValue_1216                  2147 non-null   object \n",
      " 73  Over25WithBachelor_above_1216     2147 non-null   int64  \n",
      " 74  AllPeopleUsingPublicTransit_1216  2147 non-null   int64  \n",
      " 75  EthincMinority_1216               2147 non-null   int64  \n",
      " 76  Pct_BachelorOver25_1216           2147 non-null   object \n",
      " 77  Pct_RenterOccupied_1216           2147 non-null   object \n",
      " 78  Pct_PublicTransit_1216            2147 non-null   object \n",
      " 79  Pct_EthnicMinority_1216           2147 non-null   object \n",
      " 80  Number_of_Hispanic_1216           2147 non-null   int64  \n",
      " 81  Pct_HispanicOrLatino_1216         2147 non-null   object \n",
      " 82  Pct_BlackNonHispanic_1216         2147 non-null   object \n",
      " 83  NumberOfOtherEthnics_1216         2147 non-null   int64  \n",
      " 84  HsngUnitsOver30Year_1216          2147 non-null   int64  \n",
      " 85  HsngUnitsMultiUnit_1216           2147 non-null   int64  \n",
      " 86  HsngUnitsOver30Year_0610          2147 non-null   int64  \n",
      " 87  HsngUnitsMultiUnit_0610           2147 non-null   int64  \n",
      " 88  Pct_VacantHousing_0610            2147 non-null   object \n",
      " 89  Pct_VacantHousing_1216            2147 non-null   object \n",
      " 90  PCT_HsngUnitsOver30Year_1216      2147 non-null   object \n",
      " 91  Pct_HsngUnitsOver30Year_0610      2147 non-null   object \n",
      " 92  Pct_HsngUnitsMultiUnit_1216       2147 non-null   object \n",
      " 93  Pct_HsngUnitsMultiUnit_0610       2147 non-null   object \n",
      " 94  PopulationDensity2000             2147 non-null   float64\n",
      " 95  PopulationDensity0610             2147 non-null   float64\n",
      " 96  PopulationDensity1216             2147 non-null   float64\n",
      " 97  Borough_Name                      2147 non-null   object \n",
      " 98  HeatVulIndex                      2147 non-null   int64  \n",
      "dtypes: float64(21), int64(39), object(39)\n",
      "memory usage: 1.6+ MB\n"
     ]
    }
   ],
   "source": [
    "df.info()\n",
    "#df.columns"
   ]
  },
  {
   "cell_type": "code",
   "execution_count": null,
   "metadata": {},
   "outputs": [],
   "source": []
  },
  {
   "cell_type": "markdown",
   "metadata": {},
   "source": [
    "# Troubleshooting\n",
    "### There are a number of issues that can cause prblems. Here are somem examples of potential problesm:\n",
    "1. the column is supposed to be a numeric type but it is not. It might be object type, or string.\n",
    "2. The column has 0 values but in fact those values shold be Nan \n",
    "3. The column has missing values as Nan\n",
    "4. The column has inf values"
   ]
  },
  {
   "cell_type": "markdown",
   "metadata": {},
   "source": [
    "### Now let's lean how to deal with those problems\n",
    "1. if the column is not numerical, you can convert it. For example, in this data, MedianHsHldIncome_1216 is supposted to be numerical but it is not."
   ]
  },
  {
   "cell_type": "code",
   "execution_count": 6,
   "metadata": {},
   "outputs": [
    {
     "data": {
      "text/plain": [
       "dtype('O')"
      ]
     },
     "execution_count": 6,
     "metadata": {},
     "output_type": "execute_result"
    }
   ],
   "source": [
    "df['MedianHsHldIncome_1216'].dtype"
   ]
  },
  {
   "cell_type": "code",
   "execution_count": 7,
   "metadata": {},
   "outputs": [
    {
     "data": {
      "text/plain": [
       "<AxesSubplot:xlabel='MedianHsHldIncome_1216', ylabel='Count'>"
      ]
     },
     "execution_count": 7,
     "metadata": {},
     "output_type": "execute_result"
    },
    {
     "data": {
      "image/png": "[encoded data removed]",
      "text/plain": [
       "<Figure size 432x288 with 1 Axes>"
      ]
     },
     "metadata": {
      "needs_background": "light"
     },
     "output_type": "display_data"
    }
   ],
   "source": [
    "# this histogram doesn't work because the column is not numerical\n",
    "sns.histplot(data=df,x ='MedianHsHldIncome_1216',bins=50)"
   ]
  },
  {
   "cell_type": "code",
   "execution_count": 22,
   "metadata": {},
   "outputs": [],
   "source": [
    "# this function converts the column to numerical and replaces the old column. You can create a new column if you don't want to replace. \n",
    "df['MedianHsHldIncome_1216'] = pd.to_numeric(df['MedianHsHldIncome_1216'], errors='coerce')\n",
    "df['MedGrossRentt_1216'] = pd.to_numeric(df['MedGrossRentt_1216'], errors='coerce')\n"
   ]
  },
  {
   "cell_type": "code",
   "execution_count": 9,
   "metadata": {},
   "outputs": [
    {
     "data": {
      "text/plain": [
       "dtype('float64')"
      ]
     },
     "execution_count": 9,
     "metadata": {},
     "output_type": "execute_result"
    }
   ],
   "source": [
    "# now the type is float. \n",
    "(df['MedianHsHldIncome_1216']).dtype"
   ]
  },
  {
   "cell_type": "code",
   "execution_count": 10,
   "metadata": {},
   "outputs": [
    {
     "data": {
      "text/plain": [
       "<AxesSubplot:xlabel='MedianHsHldIncome_1216', ylabel='Count'>"
      ]
     },
     "execution_count": 10,
     "metadata": {},
     "output_type": "execute_result"
    },
    {
     "data": {
      "image/png": "[encoded data removed]",
      "text/plain": [
       "<Figure size 432x288 with 1 Axes>"
      ]
     },
     "metadata": {
      "needs_background": "light"
     },
     "output_type": "display_data"
    }
   ],
   "source": [
    "# and the histogram also works\n",
    "sns.histplot(data=df,x ='MedianHsHldIncome_1216',bins=50)"
   ]
  },
  {
   "cell_type": "markdown",
   "metadata": {},
   "source": [
    "2. there are zeros and we need to make them null or eliminate them. One way is creating a subset without zeros and the second method is replacing them with nan. Your data may have also inf or -inf values. This sample code will change that"
   ]
  },
  {
   "cell_type": "code",
   "execution_count": 14,
   "metadata": {},
   "outputs": [
    {
     "data": {
      "text/html": [
       "<div>\n",
       "<style scoped>\n",
       "    .dataframe tbody tr th:only-of-type {\n",
       "        vertical-align: middle;\n",
       "    }\n",
       "\n",
       "    .dataframe tbody tr th {\n",
       "        vertical-align: top;\n",
       "    }\n",
       "\n",
       "    .dataframe thead th {\n",
       "        text-align: right;\n",
       "    }\n",
       "</style>\n",
       "<table border=\"1\" class=\"dataframe\">\n",
       "  <thead>\n",
       "    <tr style=\"text-align: right;\">\n",
       "      <th></th>\n",
       "      <th>GISJOIN</th>\n",
       "      <th>Population2000</th>\n",
       "      <th>NH_White_2000</th>\n",
       "      <th>NH_Black_2000</th>\n",
       "      <th>Asian_2000</th>\n",
       "      <th>Hispanic_2000</th>\n",
       "      <th>Other_2000</th>\n",
       "      <th>Pct_NH_White_2000</th>\n",
       "      <th>Pct_NH_Black_2000</th>\n",
       "      <th>Pct_NH_Asian_2000</th>\n",
       "      <th>...</th>\n",
       "      <th>Pct_VacantHousing_1216</th>\n",
       "      <th>PCT_HsngUnitsOver30Year_1216</th>\n",
       "      <th>Pct_HsngUnitsOver30Year_0610</th>\n",
       "      <th>Pct_HsngUnitsMultiUnit_1216</th>\n",
       "      <th>Pct_HsngUnitsMultiUnit_0610</th>\n",
       "      <th>PopulationDensity2000</th>\n",
       "      <th>PopulationDensity0610</th>\n",
       "      <th>PopulationDensity1216</th>\n",
       "      <th>Borough_Name</th>\n",
       "      <th>HeatVulIndex</th>\n",
       "    </tr>\n",
       "  </thead>\n",
       "  <tbody>\n",
       "  </tbody>\n",
       "</table>\n",
       "<p>0 rows × 99 columns</p>\n",
       "</div>"
      ],
      "text/plain": [
       "Empty DataFrame\n",
       "Columns: [GISJOIN, Population2000, NH_White_2000, NH_Black_2000, Asian_2000, Hispanic_2000, Other_2000, Pct_NH_White_2000, Pct_NH_Black_2000, Pct_NH_Asian_2000, Pct_Hispanic_2000, Pct_Other_2000, Pct_EthMinority_2000, HousingUnits_2000, VacantUnits_2000, Pct_VacantUnits_2000, OccupiedUnits_2000, MEDHHINC_2000, Age_25_Up_2000, Age_25_Up_College_2000, Pct_Age25Up_College_2000, OwnerOcc_Units_2000, RenterOcc_Units_2000, Pct_RenterUnits_2000, MedianRent_2000, MedianHomeValue_2000, Acres, Pop_Dens_2000, Pct_MultifamHUnits_2000, Pct_HUnits_30yrsOlder_2000, emp_gravity, YEAR, Population_0610, NonHispanicWhiteAlone_0610, NonHispanicBlackAlone_0610, NonHispanicAsianAlone_0610, Hispanic_or_Latino_0610, TotalWorkersOver16_0610, TotalOver25_0610, MedianHouseholdIncome_0610, HousingUnits_0610, TotalOccupied_0610, OwnerOccupied_0610, RenterOccupied_0610, MedianGrossRent_0610, MedianHouseValue_0610, Pct_BachelorOver25_0610, AllPublicTransit_0610, EthnicMinority_0610, Pct_Renters_0610, Pct_publicTransit_0610, Pct_EthnicMinority_0610, NullField_0610, Number_of_Hispanic_0610, Pct_HispanicOrLatino_0610, Pct_BlackNonHispanic_0610, NumberOfOtherEthnics_0610, GISJOIN_12, Population_1216, Race_White_Alone_1216, Race_Black_Alone_1216, NonHispanicWhiteAlone_1216, NonHispanicBlackAlone_1216, NonHispanicAsianAlone_1216, HispanicOrLatino_1216, TotalAbove25Years_1216, MedianHsHldIncome_1216, HousingUnits_1216, TotOccup_1216, OwnOccup_1216, RenterOcc_1216, MedGrossRentt_1216, MedHseValue_1216, Over25WithBachelor_above_1216, AllPeopleUsingPublicTransit_1216, EthincMinority_1216, Pct_BachelorOver25_1216, Pct_RenterOccupied_1216, Pct_PublicTransit_1216, Pct_EthnicMinority_1216, Number_of_Hispanic_1216, Pct_HispanicOrLatino_1216, Pct_BlackNonHispanic_1216, NumberOfOtherEthnics_1216, HsngUnitsOver30Year_1216, HsngUnitsMultiUnit_1216, HsngUnitsOver30Year_0610, HsngUnitsMultiUnit_0610, Pct_VacantHousing_0610, Pct_VacantHousing_1216, PCT_HsngUnitsOver30Year_1216, Pct_HsngUnitsOver30Year_0610, Pct_HsngUnitsMultiUnit_1216, Pct_HsngUnitsMultiUnit_0610, PopulationDensity2000, PopulationDensity0610, PopulationDensity1216, Borough_Name, HeatVulIndex]\n",
       "Index: []\n",
       "\n",
       "[0 rows x 99 columns]"
      ]
     },
     "execution_count": 14,
     "metadata": {},
     "output_type": "execute_result"
    }
   ],
   "source": [
    "# check if you have 0 values\n",
    "df.loc[(df['MedianHsHldIncome_1216']==0)]"
   ]
  },
  {
   "cell_type": "code",
   "execution_count": 13,
   "metadata": {},
   "outputs": [],
   "source": [
    "# in this line, we have a list of vlaues that will be replaced with the second argument (np.nan). \n",
    "df['MedianHsHldIncome_1216'].replace([0, np.inf, -np.inf], np.nan, inplace=True)"
   ]
  },
  {
   "cell_type": "code",
   "execution_count": 15,
   "metadata": {},
   "outputs": [],
   "source": [
    "dfSub = df[['MedianHsHldIncome_1216','EthincMinority_1216']]"
   ]
  },
  {
   "cell_type": "code",
   "execution_count": 16,
   "metadata": {},
   "outputs": [
    {
     "data": {
      "text/html": [
       "<div>\n",
       "<style scoped>\n",
       "    .dataframe tbody tr th:only-of-type {\n",
       "        vertical-align: middle;\n",
       "    }\n",
       "\n",
       "    .dataframe tbody tr th {\n",
       "        vertical-align: top;\n",
       "    }\n",
       "\n",
       "    .dataframe thead th {\n",
       "        text-align: right;\n",
       "    }\n",
       "</style>\n",
       "<table border=\"1\" class=\"dataframe\">\n",
       "  <thead>\n",
       "    <tr style=\"text-align: right;\">\n",
       "      <th></th>\n",
       "      <th>MedianHsHldIncome_1216</th>\n",
       "      <th>EthincMinority_1216</th>\n",
       "    </tr>\n",
       "  </thead>\n",
       "  <tbody>\n",
       "    <tr>\n",
       "      <th>102</th>\n",
       "      <td>71375.0</td>\n",
       "      <td>563</td>\n",
       "    </tr>\n",
       "    <tr>\n",
       "      <th>2024</th>\n",
       "      <td>19879.0</td>\n",
       "      <td>5583</td>\n",
       "    </tr>\n",
       "  </tbody>\n",
       "</table>\n",
       "</div>"
      ],
      "text/plain": [
       "      MedianHsHldIncome_1216  EthincMinority_1216\n",
       "102                  71375.0                  563\n",
       "2024                 19879.0                 5583"
      ]
     },
     "execution_count": 16,
     "metadata": {},
     "output_type": "execute_result"
    }
   ],
   "source": [
    "dfSub.sample(2)"
   ]
  },
  {
   "cell_type": "code",
   "execution_count": 17,
   "metadata": {},
   "outputs": [
    {
     "name": "stdout",
     "output_type": "stream",
     "text": [
      "<class 'pandas.core.frame.DataFrame'>\n",
      "RangeIndex: 2147 entries, 0 to 2146\n",
      "Data columns (total 2 columns):\n",
      " #   Column                  Non-Null Count  Dtype  \n",
      "---  ------                  --------------  -----  \n",
      " 0   MedianHsHldIncome_1216  2098 non-null   float64\n",
      " 1   EthincMinority_1216     2147 non-null   int64  \n",
      "dtypes: float64(1), int64(1)\n",
      "memory usage: 33.7 KB\n"
     ]
    }
   ],
   "source": [
    "dfSub.info()"
   ]
  },
  {
   "cell_type": "code",
   "execution_count": 18,
   "metadata": {},
   "outputs": [],
   "source": [
    "# axis 0 means delete the rows that contain nan. \n",
    "dfSubCopy = dfSub.dropna(axis=0)\n",
    "# how{‘any’, ‘all’}, default ‘any’\n",
    "# dfSubCopy = dfSub.dropna(axis=0,how='all')"
   ]
  },
  {
   "cell_type": "code",
   "execution_count": 19,
   "metadata": {},
   "outputs": [
    {
     "data": {
      "text/html": [
       "<div>\n",
       "<style scoped>\n",
       "    .dataframe tbody tr th:only-of-type {\n",
       "        vertical-align: middle;\n",
       "    }\n",
       "\n",
       "    .dataframe tbody tr th {\n",
       "        vertical-align: top;\n",
       "    }\n",
       "\n",
       "    .dataframe thead th {\n",
       "        text-align: right;\n",
       "    }\n",
       "</style>\n",
       "<table border=\"1\" class=\"dataframe\">\n",
       "  <thead>\n",
       "    <tr style=\"text-align: right;\">\n",
       "      <th></th>\n",
       "      <th>MedianHsHldIncome_1216</th>\n",
       "      <th>EthincMinority_1216</th>\n",
       "    </tr>\n",
       "  </thead>\n",
       "  <tbody>\n",
       "    <tr>\n",
       "      <th>1806</th>\n",
       "      <td>67039.0</td>\n",
       "      <td>483</td>\n",
       "    </tr>\n",
       "    <tr>\n",
       "      <th>1758</th>\n",
       "      <td>94389.0</td>\n",
       "      <td>964</td>\n",
       "    </tr>\n",
       "  </tbody>\n",
       "</table>\n",
       "</div>"
      ],
      "text/plain": [
       "      MedianHsHldIncome_1216  EthincMinority_1216\n",
       "1806                 67039.0                  483\n",
       "1758                 94389.0                  964"
      ]
     },
     "execution_count": 19,
     "metadata": {},
     "output_type": "execute_result"
    }
   ],
   "source": [
    "dfSubCopy.sample(2)"
   ]
  },
  {
   "cell_type": "code",
   "execution_count": 23,
   "metadata": {},
   "outputs": [
    {
     "data": {
      "text/plain": [
       "dtype('float64')"
      ]
     },
     "execution_count": 23,
     "metadata": {},
     "output_type": "execute_result"
    }
   ],
   "source": [
    "df['MedGrossRentt_1216'].dtype"
   ]
  },
  {
   "cell_type": "code",
   "execution_count": 24,
   "metadata": {},
   "outputs": [],
   "source": [
    "df['rentBurden_1216'] = (df['MedGrossRentt_1216']*12)/df['MedianHsHldIncome_1216']"
   ]
  },
  {
   "cell_type": "code",
   "execution_count": null,
   "metadata": {},
   "outputs": [],
   "source": [
    "# df['rentBurden_1216'] = (df['MedianRent_1216']*12)/df['MedHHIncome_1216'] # this code does not work because there are some income values as 0 and any number / 0 is inf.\n",
    "# we can use this code instead\n",
    "# 'col_to_write' can be a new column or an existing one that you want to rewrite\n",
    "# Condition limits the rows that need to be written. for example: df['a_col'] > number\n",
    "# value can be a number or a fromula that uses the columns of the df\n",
    "# syntax: df.loc[(condition),'col_to_write'] = value\n",
    "df.loc[(df['MedianHsHldIncome_1216']>0),'rentBurden_1216'] = (df['MedGrossRentt_1216']*12)/df['MedianHsHldIncome_1216']"
   ]
  }
 ],
 "metadata": {
  "kernelspec": {
   "display_name": "Python 3",
   "language": "python",
   "name": "python3"
  },
  "language_info": {
   "codemirror_mode": {
    "name": "ipython",
    "version": 3
   },
   "file_extension": ".py",
   "mimetype": "text/x-python",
   "name": "python",
   "nbconvert_exporter": "python",
   "pygments_lexer": "ipython3",
   "version": "3.7.9"
  }
 },
 "nbformat": 4,
 "nbformat_minor": 5
}
