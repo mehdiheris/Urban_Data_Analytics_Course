{
 "cells": [
  {
   "cell_type": "code",
   "execution_count": 7,
   "metadata": {},
   "outputs": [],
   "source": [
    "import pandas as pd\n",
    "import seaborn as sns"
   ]
  },
  {
   "cell_type": "code",
   "execution_count": 2,
   "metadata": {},
   "outputs": [],
   "source": [
    "pathName = r'C:\\MyFiles\\Dropbox\\Teaching\\Urban_Data_Analsysis\\Spring 2021\\Data\\CSV_BlockGroups.csv'"
   ]
  },
  {
   "cell_type": "code",
   "execution_count": 4,
   "metadata": {},
   "outputs": [],
   "source": [
    "df = pd.read_csv(pathName)"
   ]
  },
  {
   "cell_type": "code",
   "execution_count": 6,
   "metadata": {},
   "outputs": [
    {
     "data": {
      "text/plain": [
       "0       30.5\n",
       "1       35.7\n",
       "2       27.3\n",
       "3       40.3\n",
       "4       26.6\n",
       "        ... \n",
       "5847    35.0\n",
       "5848    30.8\n",
       "5849    31.6\n",
       "5850    36.1\n",
       "5851    43.7\n",
       "Name: Median_age, Length: 5852, dtype: float64"
      ]
     },
     "execution_count": 6,
     "metadata": {},
     "output_type": "execute_result"
    }
   ],
   "source": [
    "df['Median_age']"
   ]
  },
  {
   "cell_type": "code",
   "execution_count": 16,
   "metadata": {},
   "outputs": [
    {
     "data": {
      "text/plain": [
       "Index(['INTPTLAT', 'INTPTLON', 'GISJOIN', 'YEAR', 'Median_age', 'Population',\n",
       "       'WhiteAlone', 'BlackAlone', 'NativeAlone', 'BlackAlonWithComb',\n",
       "       'Hisp_Latino', 'MedHouseholdIncome', 'PerCapitaIncome', 'MedYearBuilt',\n",
       "       'MedianValue', 'PctNonWhite', 'PctBlackOnly', 'PctHisLatOnly',\n",
       "       'HsngUnits', 'HsngDenPerHac', 'pop_65above', 'Fem_65Above',\n",
       "       'Commute30Over', 'commute60Over', 'commutePtransitOver60',\n",
       "       'commuteWalkBike', 'LivingAloneOver65', 'LessThanHighSchool',\n",
       "       'TotPopulation', 'pct_fem65Over', 'pct_popOver65', 'pctCommute60Over',\n",
       "       'pctCommutePTnsitOver60', 'pctCommuteWalkBike', 'pct_LivingAlone65Over',\n",
       "       'pct_LessThanHighSchool', 'pctMobileHomes', 'BlcokG_Area_SqMeter',\n",
       "       'WaterFront', 'NearParks', 'NearMajorParks', 'boro_name'],\n",
       "      dtype='object')"
      ]
     },
     "execution_count": 16,
     "metadata": {},
     "output_type": "execute_result"
    }
   ],
   "source": [
    "df.columns"
   ]
  },
  {
   "cell_type": "code",
   "execution_count": 22,
   "metadata": {},
   "outputs": [
    {
     "data": {
      "text/plain": [
       "<AxesSubplot:xlabel='Median_age', ylabel='Count'>"
      ]
     },
     "execution_count": 22,
     "metadata": {},
     "output_type": "execute_result"
    },
    {
     "data": {
      "image/png": "[encoded data removed]",
      "text/plain": [
       "<Figure size 432x288 with 1 Axes>"
      ]
     },
     "metadata": {
      "needs_background": "light"
     },
     "output_type": "display_data"
    }
   ],
   "source": [
    "sns.histplot(data=df, x=\"Median_age\",bins=50)"
   ]
  }
 ],
 "metadata": {
  "kernelspec": {
   "display_name": "Python 3",
   "language": "python",
   "name": "python3"
  },
  "language_info": {
   "codemirror_mode": {
    "name": "ipython",
    "version": 3
   },
   "file_extension": ".py",
   "mimetype": "text/x-python",
   "name": "python",
   "nbconvert_exporter": "python",
   "pygments_lexer": "ipython3",
   "version": "3.7.7"
  }
 },
 "nbformat": 4,
 "nbformat_minor": 4
}
