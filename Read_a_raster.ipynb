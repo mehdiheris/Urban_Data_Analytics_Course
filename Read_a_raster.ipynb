{
 "cells": [
  {
   "cell_type": "code",
   "execution_count": 1,
   "metadata": {},
   "outputs": [],
   "source": [
    "# import essential packages\n",
    "import rasterio\n",
    "import numpy as np\n",
    "import matplotlib.pyplot as plt\n",
    "import seaborn as sns"
   ]
  },
  {
   "cell_type": "code",
   "execution_count": 2,
   "metadata": {},
   "outputs": [],
   "source": [
    "# Change this path to point to the raster layer in your computer\n",
    "addressOrtho_b1 = r'D:\\Dropbox\\Dropbox\\Teaching\\Advanced_GIS_for_Environmental_Planning\\Data\\3633197_005180\\NY\\2014\\201404_kings_county_ny_6in_sp_cnir\\vol001\\005180.tif'\n"
   ]
  },
  {
   "cell_type": "code",
   "execution_count": 3,
   "metadata": {},
   "outputs": [],
   "source": [
    "# This block reads a raster layer and coverts that to an array\n",
    "with rasterio.open(addressOrtho_b1,'r') as rst:\n",
    "    # this line reads the raster into an array and converts the data type to 'float64'\n",
    "    ortho_b1=rst.read(1).astype('float64')\n",
    "    # this line reads the metadata of the raster\n",
    "    kwds = rst.meta.copy()\n",
    "    # this line gets the cell size from the metadata\n",
    "    cellSize= kwds['transform'][0]\n",
    "    # this line reads the value that is used for nodata\n",
    "    orthoNodata= rst.nodata\n",
    "    # this line converts the nodata to zero\n",
    "    ortho_b1[ortho_b1==orthoNodata]= 0"
   ]
  },
  {
   "cell_type": "code",
   "execution_count": null,
   "metadata": {},
   "outputs": [],
   "source": [
    "# this line plots the raster\n",
    "plt.imshow(ortho_b1)"
   ]
  },
  {
   "cell_type": "code",
   "execution_count": null,
   "metadata": {},
   "outputs": [],
   "source": [
    "# you can see what the metadata is\n",
    "kwds"
   ]
  },
  {
   "cell_type": "code",
   "execution_count": null,
   "metadata": {},
   "outputs": [],
   "source": [
    "# you can see the number of rows and the bumber of columns of the raster\n",
    "ortho_b1.shape"
   ]
  },
  {
   "cell_type": "code",
   "execution_count": 8,
   "metadata": {},
   "outputs": [
    {
     "data": {
      "text/plain": [
       "0.5"
      ]
     },
     "execution_count": 8,
     "metadata": {},
     "output_type": "execute_result"
    }
   ],
   "source": [
    "# you can see the cell size value\n",
    "cellSize"
   ]
  }
 ],
 "metadata": {
  "kernelspec": {
   "display_name": "Python 3",
   "language": "python",
   "name": "python3"
  },
  "language_info": {
   "codemirror_mode": {
    "name": "ipython",
    "version": 3
   },
   "file_extension": ".py",
   "mimetype": "text/x-python",
   "name": "python",
   "nbconvert_exporter": "python",
   "pygments_lexer": "ipython3",
   "version": "3.7.7"
  }
 },
 "nbformat": 4,
 "nbformat_minor": 4
}
