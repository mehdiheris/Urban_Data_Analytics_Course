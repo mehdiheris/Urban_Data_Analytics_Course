{
 "cells": [
  {
   "cell_type": "code",
   "execution_count": null,
   "metadata": {},
   "outputs": [],
   "source": [
    "import rasterio\n",
    "import numpy as np\n",
    "# from scipy import stats as st\n",
    "import pandas as pd\n",
    "import matplotlib.pyplot as plt\n",
    "# from matplotlib.ticker import MaxNLocator\n",
    "import matplotlib.cbook as cbook\n",
    "import seaborn as sns\n",
    "\n",
    "import os\n",
    "\n",
    "# from sklearn import tree\n",
    "# from sklearn.tree import DecisionTreeClassifier\n",
    "# from sklearn.model_selection import train_test_split\n",
    "# from sklearn.ensemble import RandomForestRegressor\n",
    "# from sklearn.ensemble import ExtraTreesRegressor\n",
    "from sklearn import preprocessing\n",
    "# from sklearn import linear_model\n",
    "# from sklearn import metrics\n",
    "\n",
    "%matplotlib inline\n",
    "from IPython.display import set_matplotlib_formats\n",
    "set_matplotlib_formats('pdf', 'svg')"
   ]
  },
  {
   "cell_type": "code",
   "execution_count": null,
   "metadata": {},
   "outputs": [],
   "source": [
    "addressOrtho_b1=r'D:\\Cambridge\\Cambridge_Albedo\\2010_2008\\2008_x\\2008_x\\Ortho2008_b1.img'\n",
    "# addressOrtho_b2=r'D:\\Cambridge\\Cambridge_Albedo\\2010_2008\\2008_x\\2008_x\\Ortho2008_b2.img'\n",
    "# addressOrtho_b3=r'D:\\Cambridge\\Cambridge_Albedo\\2010_2008\\2008_x\\2008_x\\Ortho2008_b3.img'\n",
    "# addressOrtho_b4=r'D:\\Cambridge\\Cambridge_Albedo\\2010_2008\\2008_x\\2008_x\\Ortho2008_b4.img'"
   ]
  },
  {
   "cell_type": "code",
   "execution_count": null,
   "metadata": {},
   "outputs": [],
   "source": [
    "with rasterio.open(addressOrtho_b1,'r') as rst:\n",
    "    ortho_b1=rst.read(1).astype('float64')\n",
    "    kwds = rst.meta.copy()\n",
    "    cellSize= kwds['transform'][0]\n",
    "    orthoNodata= rst.nodata\n",
    "    ortho_b1[ortho_b1==orthoNodata]= 0"
   ]
  },
  {
   "cell_type": "code",
   "execution_count": null,
   "metadata": {},
   "outputs": [],
   "source": [
    "plt.imshow(ortho_b1)"
   ]
  }
 ],
 "metadata": {
  "kernelspec": {
   "display_name": "Python 3",
   "language": "python",
   "name": "python3"
  },
  "language_info": {
   "codemirror_mode": {
    "name": "ipython",
    "version": 3
   },
   "file_extension": ".py",
   "mimetype": "text/x-python",
   "name": "python",
   "nbconvert_exporter": "python",
   "pygments_lexer": "ipython3",
   "version": "3.7.9"
  }
 },
 "nbformat": 4,
 "nbformat_minor": 4
}
