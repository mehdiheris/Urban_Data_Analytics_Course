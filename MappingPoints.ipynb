{
 "cells": [
  {
   "cell_type": "code",
   "execution_count": null,
   "id": "40209642-5a41-4b59-8aa0-9ea5fd425e6d",
   "metadata": {},
   "outputs": [],
   "source": [
    "import pandas as pd\n",
    "import folium"
   ]
  },
  {
   "cell_type": "code",
   "execution_count": null,
   "id": "062e588b-e9e5-41e3-acd8-b5d295faba9e",
   "metadata": {},
   "outputs": [],
   "source": [
    "address = r\"\""
   ]
  },
  {
   "cell_type": "code",
   "execution_count": null,
   "id": "505000d2-caa2-4a4c-a843-ea42f3490965",
   "metadata": {},
   "outputs": [],
   "source": [
    "df = pd.read_csv(address)"
   ]
  },
  {
   "cell_type": "code",
   "execution_count": null,
   "id": "c747b639-965b-48f6-b2ef-ba2d3381a35c",
   "metadata": {},
   "outputs": [],
   "source": [
    "df"
   ]
  },
  {
   "cell_type": "code",
   "execution_count": null,
   "id": "9c021e22-63e7-4492-9d22-6cf2276bbd07",
   "metadata": {},
   "outputs": [],
   "source": [
    "locations = df[['Lat', 'Long']]\n",
    "locationlist = locations.values.tolist()\n",
    "len(locationlist)"
   ]
  },
  {
   "cell_type": "code",
   "execution_count": null,
   "id": "34b7c843-2933-4c86-9495-d5325e7fe91d",
   "metadata": {},
   "outputs": [],
   "source": [
    "map = folium.Map(location=[df['Lat'].mean(),df['Long'].mean()], zoom_start=12)\n",
    "for point in range(0, len(locationlist)):\n",
    "    folium.Marker(locationlist[point]).add_to(map)\n",
    "map"
   ]
  },
  {
   "cell_type": "code",
   "execution_count": null,
   "id": "76f375ea-641c-4e7a-b58a-87a4a3224337",
   "metadata": {},
   "outputs": [],
   "source": []
  }
 ],
 "metadata": {
  "kernelspec": {
   "display_name": "Python 3 (ipykernel)",
   "language": "python",
   "name": "python3"
  },
  "language_info": {
   "codemirror_mode": {
    "name": "ipython",
    "version": 3
   },
   "file_extension": ".py",
   "mimetype": "text/x-python",
   "name": "python",
   "nbconvert_exporter": "python",
   "pygments_lexer": "ipython3",
   "version": "3.7.9"
  }
 },
 "nbformat": 4,
 "nbformat_minor": 5
}
